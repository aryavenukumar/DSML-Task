{
  "nbformat": 4,
  "nbformat_minor": 0,
  "metadata": {
    "colab": {
      "provenance": []
    },
    "kernelspec": {
      "name": "python3",
      "display_name": "Python 3"
    },
    "language_info": {
      "name": "python"
    }
  },
  "cells": [
    {
      "cell_type": "markdown",
      "source": [
        "1. Write a Python program to check that a string contains only a certain set of characters (in this case a-z, A-Z and 0-9).\n",
        "\n"
      ],
      "metadata": {
        "id": "fpQX9wBhb6ox"
      }
    },
    {
      "cell_type": "code",
      "execution_count": null,
      "metadata": {
        "colab": {
          "base_uri": "https://localhost:8080/"
        },
        "id": "SfshTPl25lrf",
        "outputId": "2e11dd4d-11e8-4807-8753-009089175c99"
      },
      "outputs": [
        {
          "output_type": "stream",
          "name": "stdout",
          "text": [
            "'ARYA123' contains characters.\n",
            "'welcome!' contains non characters.\n",
            "'123456' contains characters.\n",
            "'@#$%%^&*' contains non characters.\n"
          ]
        }
      ],
      "source": [
        "import re\n",
        "\n",
        "def check_string(text):\n",
        "  pattern = r'^[a-zA-Z0-9]+$'\n",
        "  return bool(re.search(pattern, text))\n",
        "\n",
        "test_strings = [\"ARYA123\", \"welcome!\", \"123456\", \"@#$%%^&*\"]\n",
        "for string in test_strings:\n",
        "  if check_string(string):\n",
        "    print(f\"'{string}' contains characters.\")\n",
        "  else:\n",
        "    print(f\"'{string}' contains non characters.\")\n"
      ]
    },
    {
      "cell_type": "markdown",
      "source": [
        "2. Write a Python program that matches a string that has an a followed by zero or more b's.\n",
        "\n"
      ],
      "metadata": {
        "id": "rtdxRzltcRtS"
      }
    },
    {
      "cell_type": "code",
      "source": [
        "import re\n",
        "\n",
        "pattern = r\"a(b*)\"\n",
        "\n",
        "test_strings = [\"abb\", \"ad\", \"dvba\", \"abc\", \"bac\"]\n",
        "\n",
        "for string in test_strings:\n",
        "  if re.fullmatch(pattern, string):\n",
        "    print(f\"'{string}' matches the pattern\")\n",
        "  else:\n",
        "    print(f\"'{string}' does not match the pattern\")\n"
      ],
      "metadata": {
        "colab": {
          "base_uri": "https://localhost:8080/"
        },
        "id": "duFEzslJ5tOs",
        "outputId": "bb161613-2916-4aaf-f1c2-39b6c7c75865"
      },
      "execution_count": null,
      "outputs": [
        {
          "output_type": "stream",
          "name": "stdout",
          "text": [
            "'abb' matches the pattern\n",
            "'ad' does not match the pattern\n",
            "'dvba' does not match the pattern\n",
            "'abc' does not match the pattern\n",
            "'bac' does not match the pattern\n"
          ]
        }
      ]
    },
    {
      "cell_type": "markdown",
      "source": [
        "3. Replace only the first occurrence of 5 with five for the given string\n",
        "\n"
      ],
      "metadata": {
        "id": "kyvbz3eNcZri"
      }
    },
    {
      "cell_type": "code",
      "execution_count": null,
      "metadata": {
        "colab": {
          "base_uri": "https://localhost:8080/"
        },
        "id": "DId9M3hABU11",
        "outputId": "6482fd74-0a71-4c06-904c-491ddb267dbb"
      },
      "outputs": [
        {
          "output_type": "stream",
          "name": "stdout",
          "text": [
            "They ate five apples and 5 oranges\n"
          ]
        }
      ],
      "source": [
        "import re\n",
        "\n",
        "ip= 'They ate 5 apples and 5 oranges'\n",
        "x = re.sub(r'5', 'five', ip, count=1)\n",
        "\n",
        "print(x)"
      ]
    },
    {
      "cell_type": "markdown",
      "source": [
        "4. Write a Python program that matches a string that has an a followed by three 'b'.\n",
        "\n"
      ],
      "metadata": {
        "id": "h_b1-o6ncuzM"
      }
    },
    {
      "cell_type": "code",
      "source": [],
      "metadata": {
        "id": "eWIRl3LccqwE"
      },
      "execution_count": null,
      "outputs": []
    },
    {
      "cell_type": "code",
      "source": [
        "import re\n",
        "\n",
        "pattern = r\"a(b{3})\"\n",
        "\n",
        "strings = [\"abbb\", \"abc\", \"abab\", \"abb\", \"abbba\"]\n",
        "\n",
        "for string in strings:\n",
        "  if re.fullmatch(pattern, string):\n",
        "    print(f\"'{string}' matches found\")\n",
        "  else:\n",
        "    print(f\"'{string}' matches not found\")\n"
      ],
      "metadata": {
        "colab": {
          "base_uri": "https://localhost:8080/"
        },
        "id": "UmaLxXQG7kEO",
        "outputId": "f5ab416a-464a-4000-d025-5ce62cce0726"
      },
      "execution_count": null,
      "outputs": [
        {
          "output_type": "stream",
          "name": "stdout",
          "text": [
            "'abbb' matches found\n",
            "'abc' matches not found\n",
            "'abab' matches not found\n",
            "'abb' matches not found\n",
            "'abbba' matches not found\n"
          ]
        }
      ]
    },
    {
      "cell_type": "markdown",
      "source": [
        "5. Write a Python program that matches a string that has an 'a' followed by anything ending in 'b'.\n",
        "\n"
      ],
      "metadata": {
        "id": "K2vPe01bc2LN"
      }
    },
    {
      "cell_type": "code",
      "source": [
        "import re\n",
        "\n",
        "pattern = r\"a.*?b$\"\n",
        "\n",
        "strings = [\"apple\", \"food\", \"lab\", \"python\",\"job\"]\n",
        "\n",
        "for string in strings:\n",
        "  if re.search(pattern, string):\n",
        "    print(f\"'{string}' pattern ending b\")\n",
        "  else:\n",
        "    print(f\"'{string}' pattern not ending b\")\n"
      ],
      "metadata": {
        "colab": {
          "base_uri": "https://localhost:8080/"
        },
        "id": "nX6Zpqrd8ZiQ",
        "outputId": "4bfa9980-b783-46c2-97f6-526716fc70dc"
      },
      "execution_count": null,
      "outputs": [
        {
          "output_type": "stream",
          "name": "stdout",
          "text": [
            "'apple' pattern not ending b\n",
            "'food' pattern not ending b\n",
            "'lab' pattern ending b\n",
            "'python' pattern not ending b\n",
            "'job' pattern not ending b\n"
          ]
        }
      ]
    },
    {
      "cell_type": "markdown",
      "source": [
        "6. Write a Python program to search for numbers (0-9) of length between 1 and 3 in a given string."
      ],
      "metadata": {
        "id": "NyL-DhqXdZi7"
      }
    },
    {
      "cell_type": "code",
      "source": [
        "import re\n",
        "txt=\"Exercises number 1, 12, 13 and 345 are important\"\n",
        "pattern=r'\\b[0-9]{1,3}\\b'\n",
        "x=re.findall(pattern,txt)\n",
        "print(x)\n"
      ],
      "metadata": {
        "colab": {
          "base_uri": "https://localhost:8080/"
        },
        "outputId": "dfc03574-ddf9-4753-d950-e0934929b769",
        "id": "669zu-DHKx4V"
      },
      "execution_count": null,
      "outputs": [
        {
          "output_type": "stream",
          "name": "stdout",
          "text": [
            "['1', '12', '13', '345']\n"
          ]
        }
      ]
    },
    {
      "cell_type": "markdown",
      "source": [
        "7. Write a Python program to search for literal strings within a string.\\\n",
        "Sample text : 'The quick brown fox jumps over the lazy dog.' \\\n",
        "Searched words : 'fox', 'dog', 'horse'"
      ],
      "metadata": {
        "id": "aWaHWXFjdqy7"
      }
    },
    {
      "cell_type": "code",
      "source": [
        "import re\n",
        "\n",
        "def search_strings(text, searched_words):\n",
        "    for word in searched_words:\n",
        "        if re.search(re.escape(word), text):\n",
        "            print(f\"'{word}' found in the {text}\")\n",
        "        else:\n",
        "            print(f\"'{word}' not found in the {text}\")\n",
        "\n",
        "sample_text = 'The quick brown fox jumps over the lazy dog.'\n",
        "\n",
        "searched_words = ['fox', 'dog', 'horse']\n",
        "\n",
        "search_strings(sample_text, searched_words)"
      ],
      "metadata": {
        "colab": {
          "base_uri": "https://localhost:8080/"
        },
        "id": "tlIr9zBB_CEr",
        "outputId": "e1d6c1df-ad23-472b-9418-ee6cc812310f"
      },
      "execution_count": null,
      "outputs": [
        {
          "output_type": "stream",
          "name": "stdout",
          "text": [
            "'fox' found in the The quick brown fox jumps over the lazy dog.\n",
            "'dog' found in the The quick brown fox jumps over the lazy dog.\n",
            "'horse' not found in the The quick brown fox jumps over the lazy dog.\n"
          ]
        }
      ]
    },
    {
      "cell_type": "markdown",
      "source": [
        "8. Write a Python program to search for a literal string in a string and also find the location within the original string where the pattern occurs.\n",
        "\n",
        "Sample text : 'The quick brown fox jumps over the lazy dog.' \\\n",
        "Searched words : 'fox'"
      ],
      "metadata": {
        "id": "2cgZLc6Yd0sE"
      }
    },
    {
      "cell_type": "code",
      "source": [
        "import re\n",
        "\n",
        "def search_string_with_location(text, searched_word):\n",
        "    match = re.search(re.escape(searched_word), text)\n",
        "    if match:\n",
        "        print(f\"'{searched_word}' found in the text {match.start()}-{match.end()}.\")\n",
        "    else:\n",
        "        print(f\"'{searched_word}' not found in the text.\")\n",
        "\n",
        "sample_text = 'The quick brown fox jumps over the lazy dog.'\n",
        "\n",
        "searched_word = 'fox'\n",
        "\n",
        "search_string_with_location(sample_text, searched_word)\n"
      ],
      "metadata": {
        "colab": {
          "base_uri": "https://localhost:8080/"
        },
        "id": "Hat2y9LLAjC9",
        "outputId": "c098fdff-da37-4cae-e597-483434376317"
      },
      "execution_count": null,
      "outputs": [
        {
          "output_type": "stream",
          "name": "stdout",
          "text": [
            "'fox' found in the text 16-19.\n"
          ]
        }
      ]
    },
    {
      "cell_type": "markdown",
      "source": [
        "9.  Write a Python program to extract year, month and date from an URL"
      ],
      "metadata": {
        "id": "ixuwdsnvdtcP"
      }
    },
    {
      "cell_type": "code",
      "source": [
        "import re\n",
        "url1= \"https://www.washingtonpost.com/news/football-insider/wp/2016/09/02/odell-beckhams-fame-rests-on-one-stupid-little-ball-josh-norman-tells-author/\"\n",
        "pattern=r'\\d{4}/\\d{1,2}/\\d{1,2}'\n",
        "x=re.findall(pattern,url1)\n",
        "print(x)"
      ],
      "metadata": {
        "colab": {
          "base_uri": "https://localhost:8080/"
        },
        "outputId": "4335e9a7-4aba-4297-c83e-bc55e74e71dd",
        "id": "0HEdva9MPr9g"
      },
      "execution_count": null,
      "outputs": [
        {
          "output_type": "stream",
          "name": "stdout",
          "text": [
            "['2016/09/02']\n"
          ]
        }
      ]
    },
    {
      "cell_type": "markdown",
      "source": [
        "10. Write a Python program to find URLs in a string.\n",
        "\n"
      ],
      "metadata": {
        "id": "Qdob8Ojkea-W"
      }
    },
    {
      "cell_type": "code",
      "source": [
        "import re\n",
        "\n",
        "text = '<p>Contents :</p><a href=\"https://w3resource.com\">Python Examples</a><a href=\"http://github.com\">Even More Examples</a>'\n",
        "pattern=r'http[s]?\\://\\w+\\.\\w+'\n",
        "x=re.findall(pattern,text)\n",
        "print(x)"
      ],
      "metadata": {
        "outputId": "b067f5b6-35f6-45fc-ea0d-b9ae8da486d2",
        "colab": {
          "base_uri": "https://localhost:8080/"
        },
        "id": "EhpxnKKFJk-V"
      },
      "execution_count": 1,
      "outputs": [
        {
          "output_type": "stream",
          "name": "stdout",
          "text": [
            "['https://w3resource.com', 'http://github.com']\n"
          ]
        }
      ]
    },
    {
      "cell_type": "markdown",
      "source": [
        "11. Write a Python program to remove the parenthesis area in a string.\\\n",
        "\n",
        "Sample data : [\"example (.com)\", \"w3resource\", \"github (.com)\", \"stackoverflow (.com)\"] \\\n",
        "Expected Output: \\\n",
        "example  \\\n",
        "w3resource \\\n",
        "github  \\\n",
        "stackoverflow. \\\n",
        "\n"
      ],
      "metadata": {
        "id": "5mX_cCEFepSi"
      }
    },
    {
      "cell_type": "code",
      "source": [
        "import re\n",
        "data=[\"example(.com)\", \"w3resource\", \"github(.com)\", \"stackoverflow(.com)\"]\n",
        "for pattern in data:\n",
        "  result=re.sub(r'\\(\\.\\w+\\)','',pattern)\n",
        "  print(result)"
      ],
      "metadata": {
        "colab": {
          "base_uri": "https://localhost:8080/"
        },
        "id": "ov27QP3xs8pk",
        "outputId": "edb668a3-a394-4e9b-e5cf-818368bf6e1a"
      },
      "execution_count": 2,
      "outputs": [
        {
          "output_type": "stream",
          "name": "stdout",
          "text": [
            "example\n",
            "w3resource\n",
            "github\n",
            "stackoverflow\n"
          ]
        }
      ]
    },
    {
      "cell_type": "markdown",
      "source": [
        "12. Write a Python program to concatenate the consecutive numbers in a given string. \\\n",
        "\n",
        "Original string:  \\\n",
        "Enter at 1 20 Kearny Street. The security desk can direct you to floor 1 6. Please have your identification ready.  \\\n",
        "\n",
        "After concatenating the consecutive numbers in the said string:  \\\n",
        "Enter at 120 Kearny Street. The security desk can direct you to floor 16. Please have your identification ready."
      ],
      "metadata": {
        "id": "sRhveFHXe7nz"
      }
    },
    {
      "cell_type": "code",
      "source": [
        "import re\n",
        "orginal_string = \"Enter at 1 20 Kearny Street. The security desk can direct you to floor 1 6. Please have your identification ready.\"\n",
        "new_txt = re.sub(r\"(?<=\\d)\\s(?=\\d)\", '', orginal_string)\n",
        "\n",
        "print(new_txt)"
      ],
      "metadata": {
        "outputId": "69efe077-31b8-4602-dc2a-d21ee7a68d55",
        "colab": {
          "base_uri": "https://localhost:8080/"
        },
        "id": "Bk-nQlf6K2Q2"
      },
      "execution_count": 6,
      "outputs": [
        {
          "output_type": "stream",
          "name": "stdout",
          "text": [
            "Enter at 120 Kearny Street. The security desk can direct you to floor 16. Please have your identification ready.\n"
          ]
        }
      ]
    },
    {
      "cell_type": "markdown",
      "source": [],
      "metadata": {
        "id": "rENrD10afBB3"
      }
    }
  ]
}