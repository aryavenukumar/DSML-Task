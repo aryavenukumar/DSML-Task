{
  "nbformat": 4,
  "nbformat_minor": 0,
  "metadata": {
    "colab": {
      "provenance": []
    },
    "kernelspec": {
      "name": "python3",
      "display_name": "Python 3"
    },
    "language_info": {
      "name": "python"
    }
  },
  "cells": [
    {
      "cell_type": "markdown",
      "source": [
        "#NumPy"
      ],
      "metadata": {
        "id": "vsSF6Xu82dAx"
      }
    },
    {
      "cell_type": "markdown",
      "source": [
        "##1. How to extract all odd numbers from arr?\n"
      ],
      "metadata": {
        "id": "XQknjhFB2z2z"
      }
    },
    {
      "cell_type": "code",
      "execution_count": null,
      "metadata": {
        "id": "rv7hu_dl193Z",
        "colab": {
          "base_uri": "https://localhost:8080/"
        },
        "outputId": "7f5da51f-f561-422b-d4a1-06af1e65acfd"
      },
      "outputs": [
        {
          "output_type": "stream",
          "name": "stdout",
          "text": [
            "[1 3 5 7 9]\n"
          ]
        }
      ],
      "source": [
        "import numpy as np\n",
        "arr = np.array([0, 1, 2, 3, 4, 5, 6, 7, 8, 9])\n",
        "odd_numbers = arr[arr%2!=0]\n",
        "print(odd_numbers)\n"
      ]
    },
    {
      "cell_type": "markdown",
      "source": [
        "##2. Replace all odd numbers in arr with -1 without changing"
      ],
      "metadata": {
        "id": "L4_c6cw23H1S"
      }
    },
    {
      "cell_type": "code",
      "source": [
        "import numpy as np\n",
        "arr = np.array([0, 1, 2, 3, 4, 5, 6, 7, 8, 9])\n",
        "arr[arr%2!=0]=-1\n",
        "print(arr)"
      ],
      "metadata": {
        "id": "hwIVhWMX3FEK",
        "colab": {
          "base_uri": "https://localhost:8080/"
        },
        "outputId": "ca0add8f-81da-43a7-fd4a-3fd0025dfb8a"
      },
      "execution_count": null,
      "outputs": [
        {
          "output_type": "stream",
          "name": "stdout",
          "text": [
            "[ 0 -1  2 -1  4 -1  6 -1  8 -1]\n"
          ]
        }
      ]
    },
    {
      "cell_type": "markdown",
      "source": [
        "##3.  Convert a 1D array to a 2D array with 2 rows\n",
        "\n"
      ],
      "metadata": {
        "id": "-qmIigJO3Xr1"
      }
    },
    {
      "cell_type": "code",
      "source": [
        "import numpy as np\n",
        "arr=np.arange(10)\n",
        "reshaped_arr=arr.reshape(2,-1)\n",
        "print(reshaped_arr)\n",
        "\n",
        "#Desired Output:\n",
        "#> array([[0, 1, 2, 3, 4],\n",
        "#>        [5, 6, 7, 8, 9]])"
      ],
      "metadata": {
        "id": "zkK0sPOk3jmA",
        "colab": {
          "base_uri": "https://localhost:8080/"
        },
        "outputId": "ad2fb966-13ea-417d-afc6-2eb64cefaa9d"
      },
      "execution_count": null,
      "outputs": [
        {
          "output_type": "stream",
          "name": "stdout",
          "text": [
            "[[0 1 2 3 4]\n",
            " [5 6 7 8 9]]\n"
          ]
        }
      ]
    },
    {
      "cell_type": "markdown",
      "source": [
        "##4. Stack arrays a and b vertically\n",
        "\n"
      ],
      "metadata": {
        "id": "RkGJycHf3wsg"
      }
    },
    {
      "cell_type": "code",
      "source": [
        "import numpy as np\n",
        "a = np.arange(10).reshape(2,-1)\n",
        "b = np.repeat(1, 10).reshape(2,-1)\n",
        "output=np.vstack((a,b))\n",
        "print(output)\n",
        "#Desired Output:\n",
        "\n",
        "#> array([[0, 1, 2, 3, 4],\n",
        "#>        [5, 6, 7, 8, 9],\n",
        "#>        [1, 1, 1, 1, 1],\n",
        "#>        [1, 1, 1, 1, 1]])"
      ],
      "metadata": {
        "id": "DdnTO_2r3np2",
        "colab": {
          "base_uri": "https://localhost:8080/"
        },
        "outputId": "3bedc339-1ada-4f21-97d6-2d1f410d4fb6"
      },
      "execution_count": null,
      "outputs": [
        {
          "output_type": "stream",
          "name": "stdout",
          "text": [
            "[[0 1 2 3 4]\n",
            " [5 6 7 8 9]\n",
            " [1 1 1 1 1]\n",
            " [1 1 1 1 1]]\n"
          ]
        }
      ]
    },
    {
      "cell_type": "markdown",
      "source": [
        "##5. Stack the arrays a and b horizontally.\n",
        "\n"
      ],
      "metadata": {
        "id": "fZhOCoqa38FV"
      }
    },
    {
      "cell_type": "code",
      "source": [
        "import numpy as np\n",
        "a = np.arange(10).reshape(2,-1)\n",
        "b = np.repeat(1, 10).reshape(2,-1)\n",
        "output=np.hstack((a,b))\n",
        "print(output)\n",
        "\n"
      ],
      "metadata": {
        "id": "K9mw1Yhy35cd",
        "colab": {
          "base_uri": "https://localhost:8080/"
        },
        "outputId": "f9970f24-5368-49f8-f07f-d5a8859f01c5"
      },
      "execution_count": null,
      "outputs": [
        {
          "output_type": "stream",
          "name": "stdout",
          "text": [
            "[[0 1 2 3 4 1 1 1 1 1]\n",
            " [5 6 7 8 9 1 1 1 1 1]]\n"
          ]
        }
      ]
    },
    {
      "cell_type": "markdown",
      "source": [
        "##6.How to get the common items between two python numpy arrays?\n",
        "Get the common items between a and b\n",
        "\n",
        "\n"
      ],
      "metadata": {
        "id": "0xV1tmaj4L69"
      }
    },
    {
      "cell_type": "code",
      "source": [
        "#type 1\n",
        "import numpy as np\n",
        "a = np.array([1,2,3,2,3,4,3,4,5,6])\n",
        "b = np.array([7,2,10,2,7,4,9,4,9,8])\n",
        "common_type=np.intersect1d(a,b)\n",
        "print(common_type)\n",
        "\n",
        "#type 2\n",
        "\n",
        "import numpy as np\n",
        "\n",
        "a = np.array([1, 2, 3, 2, 3, 4, 3, 4, 5, 6])\n",
        "b = np.array([7, 2, 10, 2, 7, 4, 9, 4, 9, 8])\n",
        "\n",
        "common_type = []\n",
        "for item in a:\n",
        "    if item in b and item not in common_type:\n",
        "        common_type.append(item)\n",
        "\n",
        "common_type = np.array(common_type)\n",
        "print(common_type)\n"
      ],
      "metadata": {
        "id": "Tc1Vdsrj4FYS",
        "colab": {
          "base_uri": "https://localhost:8080/"
        },
        "outputId": "418490e2-3a38-4a23-b84c-3d42dd42f112"
      },
      "execution_count": null,
      "outputs": [
        {
          "output_type": "stream",
          "name": "stdout",
          "text": [
            "[2 4]\n"
          ]
        }
      ]
    },
    {
      "cell_type": "markdown",
      "source": [
        "##7.How to remove from one array those items that exist in another?\n",
        "Q. From array a remove all items present in array b"
      ],
      "metadata": {
        "id": "kb1PG4QI4b_m"
      }
    },
    {
      "cell_type": "code",
      "source": [
        "#type 1\n",
        "import numpy as np\n",
        "\n",
        "a = np.array([1,2,3,4,5])\n",
        "b = np.array([5,6,7,8,9])\n",
        "output=np.setdiff1d(a,b)\n",
        "print(output)\n",
        "\n",
        "\n",
        "#type 2\n",
        "import numpy as np\n",
        "\n",
        "a = np.array([1, 2, 3, 4, 5])\n",
        "b = np.array([5, 6, 7, 8, 9])\n",
        "\n",
        "result = []\n",
        "for item in a:\n",
        "    if item not in b:\n",
        "        result.append(item)\n",
        "\n",
        "result = np.array(result)\n",
        "print(result)\n"
      ],
      "metadata": {
        "id": "5WvxXTdb4WZ4",
        "colab": {
          "base_uri": "https://localhost:8080/"
        },
        "outputId": "ec0ce749-2b97-4ba3-dad1-9ebc03db1c9d"
      },
      "execution_count": null,
      "outputs": [
        {
          "output_type": "stream",
          "name": "stdout",
          "text": [
            "[1 2 3 4]\n"
          ]
        }
      ]
    },
    {
      "cell_type": "markdown",
      "source": [
        "##8. How to get the positions where elements of two arrays match?\n",
        "\n",
        "Q. Get the positions where elements of a and b match\n",
        "\n"
      ],
      "metadata": {
        "id": "XVSe5ri94oKM"
      }
    },
    {
      "cell_type": "code",
      "source": [
        "#type 1\n",
        "\n",
        "import numpy as np\n",
        "a = np.array([1,2,3,2,3,4,3,4,5,6])\n",
        "b = np.array([7,2,10,2,7,4,9,4,9,8])\n",
        "match_positions=np.where(a==b)\n",
        "print(match_positions)\n",
        "\n",
        "\n",
        "#type 2\n",
        "\n",
        "import numpy as np\n",
        "\n",
        "a = np.array([1,2,3,2,3,4,3,4,5,6])\n",
        "b = np.array([7,2,10,2,7,4,9,4,9,8])\n",
        "\n",
        "matching_positions = []\n",
        "for i in range(len(a)):\n",
        "    if a[i] == b[i]:\n",
        "        matching_positions.append(i)\n",
        "\n",
        "matching_positions = np.array(matching_positions)\n",
        "print(matching_positions)\n",
        "\n",
        "\n",
        "#Desired Output:\n",
        "\n",
        "#> (array([1, 3, 5, 7]),)\n"
      ],
      "metadata": {
        "id": "e1BWOjSb4kPk",
        "colab": {
          "base_uri": "https://localhost:8080/"
        },
        "outputId": "3ab0bd6a-7c8c-4951-c291-be324bb14bdf"
      },
      "execution_count": null,
      "outputs": [
        {
          "output_type": "stream",
          "name": "stdout",
          "text": [
            "(array([1, 3, 5, 7]),)\n"
          ]
        }
      ]
    },
    {
      "cell_type": "markdown",
      "source": [
        "##9. How to extract all numbers between a given range from a numpy array?\n",
        "Get all items between 5 and 10 from a"
      ],
      "metadata": {
        "id": "AcfbnetxAi9Y"
      }
    },
    {
      "cell_type": "code",
      "source": [
        "#Type 1\n",
        "\n",
        "import numpy as np\n",
        "\n",
        "a = np.array([2, 6, 1, 9, 10, 3, 27])\n",
        "output=a[(a>=5)&(a<=10)]\n",
        "print(output)\n",
        "\n",
        "#Type 2\n",
        "\n",
        "import numpy as np\n",
        "\n",
        "a = np.array([2, 6, 1, 9, 10, 3, 27])\n",
        "\n",
        "result = []\n",
        "for num in a:\n",
        "    if 6 <= num <= 10:\n",
        "        result.append(num)\n",
        "\n",
        "result = np.array(result)\n",
        "print(result)\n",
        "\n",
        "\n",
        "#Desired Output:\n",
        "\n",
        "#(array([6, 9, 10]),)"
      ],
      "metadata": {
        "id": "m1uk3EQZAZwS",
        "colab": {
          "base_uri": "https://localhost:8080/"
        },
        "outputId": "6df2b9b3-ff0e-476f-8f47-52508c010497"
      },
      "execution_count": null,
      "outputs": [
        {
          "output_type": "stream",
          "name": "stdout",
          "text": [
            "[ 6  9 10]\n"
          ]
        }
      ]
    },
    {
      "cell_type": "markdown",
      "source": [
        "#Pandas"
      ],
      "metadata": {
        "id": "704c9zfTBW3n"
      }
    },
    {
      "cell_type": "markdown",
      "source": [
        "##Pandas Data Series"
      ],
      "metadata": {
        "id": "vFmbX5IXIgeJ"
      }
    },
    {
      "cell_type": "markdown",
      "source": [
        "##1. Write a Pandas program to convert a dictionary to a Pandas series.\n",
        "\n",
        "```\n",
        "Sample Series:\n",
        "Original dictionary:\n",
        "{'a': 100, 'b': 200, 'c': 300, 'd': 400, 'e': 800}\n",
        "\n",
        "Converted series:\n",
        "a    100\n",
        "b    200\n",
        "c    300\n",
        "d    400\n",
        "e    800\n",
        "dtype: int64\n",
        "\n",
        "```"
      ],
      "metadata": {
        "id": "uXoMD-z1BZe5"
      }
    },
    {
      "cell_type": "code",
      "source": [
        "#Type 1\n",
        "\n",
        "import pandas as pd\n",
        "orginal_dict={'a':100, 'b':200, 'c':300, 'd':400, 'e':800}\n",
        "converted_series= pd.Series(orginal_dict)\n",
        "print(converted_series)\n",
        "\n",
        "#Type 2\n",
        "\n",
        "import pandas as pd\n",
        "\n",
        "original_dict = {'a': 100, 'b': 200, 'c': 300, 'd': 400, 'e': 800}\n",
        "\n",
        "series_data = []\n",
        "\n",
        "for key, value in original_dict.items():\n",
        "    series_data.append((key, value))\n",
        "\n",
        "converted_series = pd.Series(dict(series_data))\n",
        "\n",
        "print(\"Converted series:\")\n",
        "print(converted_series)\n"
      ],
      "metadata": {
        "colab": {
          "base_uri": "https://localhost:8080/"
        },
        "id": "w8Wa9_TqrxoY",
        "outputId": "5f5c79fc-8ff3-436d-81e0-38b3f9b1c2a0"
      },
      "execution_count": null,
      "outputs": [
        {
          "output_type": "stream",
          "name": "stdout",
          "text": [
            "a    100\n",
            "b    200\n",
            "c    300\n",
            "d    400\n",
            "e    800\n",
            "dtype: int64\n"
          ]
        }
      ]
    },
    {
      "cell_type": "markdown",
      "source": [
        "##2. Write a Pandas program to convert a NumPy array to a Pandas series.\n",
        "```\n",
        "Sample Series:\n",
        "  NumPy array:\n",
        "[10 20 30 40 50]\n",
        "Converted Pandas series:\n",
        "0    10\n",
        "1    20\n",
        "2    30\n",
        "3    40\n",
        "4    50\n",
        "dtype: int64\n",
        "\n",
        "```"
      ],
      "metadata": {
        "id": "0x6UlatfHmBX"
      }
    },
    {
      "cell_type": "code",
      "source": [],
      "metadata": {
        "id": "YvsFSc9riS3t"
      },
      "execution_count": null,
      "outputs": []
    },
    {
      "cell_type": "code",
      "source": [
        "#Type 1\n",
        "\n",
        "import pandas as pd\n",
        "import numpy as np\n",
        "numpy_array=np.array([10,20,30,40,50])\n",
        "converted_series=pd.Series(numpy_array)\n",
        "print(converted_series)\n",
        "\n",
        "\n",
        "\n",
        "#type 2\n",
        "\n",
        "import pandas as pd\n",
        "import numpy as np\n",
        "\n",
        "numpy_array = np.array([10, 20, 30, 40, 50])\n",
        "\n",
        "series_data = []\n",
        "\n",
        "for element in numpy_array:\n",
        "    series_data.append(element)\n",
        "\n",
        "converted_series = pd.Series(series_data)\n",
        "\n",
        "print(\"Converted Pandas series:\")\n",
        "print(converted_series)\n"
      ],
      "metadata": {
        "colab": {
          "base_uri": "https://localhost:8080/"
        },
        "id": "UOcQasjNtnqQ",
        "outputId": "b2db5fb5-365e-4bcd-fe89-dc859910ca71"
      },
      "execution_count": null,
      "outputs": [
        {
          "output_type": "stream",
          "name": "stdout",
          "text": [
            "0    10\n",
            "1    20\n",
            "2    30\n",
            "3    40\n",
            "4    50\n",
            "dtype: int64\n"
          ]
        }
      ]
    },
    {
      "cell_type": "markdown",
      "source": [
        "##3. Write a Pandas program to change the data type of given a column or a Series.\n",
        "\n",
        "```\n",
        "Sample Series:\n",
        "    Original Data Series:\n",
        "0       100\n",
        "1       200\n",
        "2    python\n",
        "3    300.12\n",
        "4       400\n",
        "dtype: object\n",
        "Change the said data type to numeric:\n",
        "0    100.00\n",
        "1    200.00\n",
        "2       NaN\n",
        "3    300.12\n",
        "4    400.00\n",
        "dtype: float64\n",
        "\n",
        "```"
      ],
      "metadata": {
        "id": "MYTvji7SHx2F"
      }
    },
    {
      "cell_type": "code",
      "source": [
        "import pandas as pd\n",
        "orginal_series=pd.Series(['100', '200', 'python', '300.12', '400'])\n",
        "converted_series=pd.to_numeric(orginal_series, errors='coerce')\n",
        "print(converted_series)"
      ],
      "metadata": {
        "colab": {
          "base_uri": "https://localhost:8080/"
        },
        "id": "HqdgIpVCvKl3",
        "outputId": "3ecc0001-468f-430c-fd41-f286463b5c8c"
      },
      "execution_count": null,
      "outputs": [
        {
          "output_type": "stream",
          "name": "stdout",
          "text": [
            "0    100.00\n",
            "1    200.00\n",
            "2       NaN\n",
            "3    300.12\n",
            "4    400.00\n",
            "dtype: float64\n"
          ]
        }
      ]
    },
    {
      "cell_type": "markdown",
      "source": [
        "##4. Write a Pandas program to convert the first column of a DataFrame as a Series.\n",
        "\n",
        "```\n",
        "Sample Output:  \n",
        "Original DataFrame\n",
        "   col1  col2  col3\n",
        "0     1     4     7\n",
        "1     2     5     5\n",
        "2     3     6     8\n",
        "3     4     9    12\n",
        "4     7     5     1\n",
        "5    11     0    11\n",
        "\n",
        "1st column as a Series:\n",
        "0     1\n",
        "1     2\n",
        "2     3\n",
        "3     4\n",
        "4     7\n",
        "5    11\n",
        "Name: col1, dtype: int64\n",
        "<class 'pandas.core.series.Series'>\n",
        "\n",
        "```"
      ],
      "metadata": {
        "id": "8KpTxLSPH4qa"
      }
    },
    {
      "cell_type": "code",
      "source": [
        "import pandas as pd\n",
        "\n",
        "data={'col1': [1, 2, 3, 4, 7, 11],\n",
        "      'col2': [4, 5, 6, 9, 5, 0],\n",
        "      'col3': [7, 5, 8, 12, 1, 11]}\n",
        "\n",
        "df=pd.DataFrame(data)\n",
        "print(\"orginal DataFrame\")\n",
        "print(df)\n",
        "\n",
        "first_column_series=df['col1']\n",
        "print(\"\\n1st column as a Series:\")\n",
        "print(first_column_series)\n",
        "print(type(first_column_series))"
      ],
      "metadata": {
        "colab": {
          "base_uri": "https://localhost:8080/"
        },
        "id": "yVW_91-AvAZq",
        "outputId": "83d14664-e074-467a-a9bd-ad45f5a62521"
      },
      "execution_count": null,
      "outputs": [
        {
          "output_type": "stream",
          "name": "stdout",
          "text": [
            "orginal DataFrame\n",
            "   col1  col2  col3\n",
            "0     1     4     7\n",
            "1     2     5     5\n",
            "2     3     6     8\n",
            "3     4     9    12\n",
            "4     7     5     1\n",
            "5    11     0    11\n",
            "\n",
            "1st column as a Series:\n",
            "0     1\n",
            "1     2\n",
            "2     3\n",
            "3     4\n",
            "4     7\n",
            "5    11\n",
            "Name: col1, dtype: int64\n",
            "<class 'pandas.core.series.Series'>\n"
          ]
        }
      ]
    },
    {
      "cell_type": "markdown",
      "source": [
        "##5. Write a Pandas program to convert a given Series to an array.\n",
        "\n",
        "```\n",
        "Sample Output:\n",
        "Original Data Series:\n",
        "0       100\n",
        "1       200\n",
        "2    python\n",
        "3    300.12\n",
        "4       400\n",
        "dtype: object\n",
        "Series to an array\n",
        "['100' '200' 'python' '300.12' '400']\n",
        "<class 'numpy.ndarray'>\n",
        "\n",
        "```"
      ],
      "metadata": {
        "id": "I3akTejyIHHR"
      }
    },
    {
      "cell_type": "code",
      "source": [
        "import pandas as pd\n",
        "import numpy as np\n",
        "\n",
        "data_series = pd.Series([100, 200, 'python', 300.12, 400])\n",
        "\n",
        "print(\"Original Data Series:\")\n",
        "print(data_series)\n",
        "\n",
        "array_data = data_series.values\n",
        "\n",
        "print(\"Series to an array\")\n",
        "print(array_data)\n",
        "print(type(array_data))"
      ],
      "metadata": {
        "colab": {
          "base_uri": "https://localhost:8080/"
        },
        "id": "V9QYSfOg1M0b",
        "outputId": "16bc4811-a7b4-4e55-dab0-53e7af2ea4ca"
      },
      "execution_count": null,
      "outputs": [
        {
          "output_type": "stream",
          "name": "stdout",
          "text": [
            "Original Data Series:\n",
            "0       100\n",
            "1       200\n",
            "2    python\n",
            "3    300.12\n",
            "4       400\n",
            "dtype: object\n",
            "Series to an array\n",
            "[100 200 'python' 300.12 400]\n",
            "<class 'numpy.ndarray'>\n"
          ]
        }
      ]
    },
    {
      "cell_type": "markdown",
      "source": [
        "##6 Write a Pandas program to convert Series of lists to one Series.\n",
        "```\n",
        "Sample Output:\n",
        "Original Series of list\n",
        "0    [Red, Green, White]\n",
        "1           [Red, Black]\n",
        "2               [Yellow]\n",
        "dtype: object\n",
        "One Series\n",
        "0       Red\n",
        "1     Green\n",
        "2     White\n",
        "3       Red\n",
        "4     Black\n",
        "5    Yellow\n",
        "dtype: object\n",
        "\n",
        "```"
      ],
      "metadata": {
        "id": "Xy5hy5DBIOM8"
      }
    },
    {
      "cell_type": "code",
      "source": [
        "import pandas as pd\n",
        "\n",
        "original_series = pd.Series([['Red', 'Green', 'White'], ['Red', 'Black'], ['Yellow']])\n",
        "\n",
        "print(\"Original Series of list:\")\n",
        "print(original_series)\n",
        "\n",
        "one_series = original_series.explode()\n",
        "\n",
        "print(\"One Series:\")\n",
        "print(one_series)"
      ],
      "metadata": {
        "colab": {
          "base_uri": "https://localhost:8080/"
        },
        "id": "7foTAjVv3zdT",
        "outputId": "dbeee39c-cf32-4417-fcb0-e87fbbded23c"
      },
      "execution_count": null,
      "outputs": [
        {
          "output_type": "stream",
          "name": "stdout",
          "text": [
            "Original Series of list:\n",
            "0    [Red, Green, White]\n",
            "1           [Red, Black]\n",
            "2               [Yellow]\n",
            "dtype: object\n",
            "One Series:\n",
            "0       Red\n",
            "0     Green\n",
            "0     White\n",
            "1       Red\n",
            "1     Black\n",
            "2    Yellow\n",
            "dtype: object\n"
          ]
        }
      ]
    },
    {
      "cell_type": "markdown",
      "source": [
        "##7.Write a Pandas program to sort a given Series.\n",
        "```\n",
        "Sample Output:\n",
        "Original Data Series:\n",
        "0       100\n",
        "1       200\n",
        "2    python\n",
        "3    300.12\n",
        "4       400\n",
        "dtype: object\n",
        "0       100\n",
        "1       200\n",
        "3    300.12\n",
        "4       400\n",
        "2    python\n",
        "dtype: object\n",
        "```"
      ],
      "metadata": {
        "id": "yZLlnPrFIZGu"
      }
    },
    {
      "cell_type": "code",
      "source": [
        "import pandas as pd\n",
        "s = pd.Series(['100', '200', 'python', '300.12', '400'])\n",
        "print(\"Original Data Series:\")\n",
        "print(s)\n",
        "new_s = pd.Series(s).sort_values()\n",
        "print(new_s)"
      ],
      "metadata": {
        "colab": {
          "base_uri": "https://localhost:8080/"
        },
        "id": "Ce1FFhh54O81",
        "outputId": "721c897b-e3f0-40e6-b522-0c5edd6e852b"
      },
      "execution_count": null,
      "outputs": [
        {
          "output_type": "stream",
          "name": "stdout",
          "text": [
            "Original Data Series:\n",
            "0       100\n",
            "1       200\n",
            "2    python\n",
            "3    300.12\n",
            "4       400\n",
            "dtype: object\n",
            "0       100\n",
            "1       200\n",
            "3    300.12\n",
            "4       400\n",
            "2    python\n",
            "dtype: object\n"
          ]
        }
      ]
    },
    {
      "cell_type": "markdown",
      "source": [
        "##Pandas DataFrame"
      ],
      "metadata": {
        "id": "QujcJSvgIxHm"
      }
    },
    {
      "cell_type": "markdown",
      "source": [
        "##1.Write a Pandas program to create a dataframe from a dictionary and display it.\n",
        "```\n",
        "Sample data: {'X':[78,85,96,80,86], 'Y':[84,94,89,83,86],'Z':[86,97,96,72,83]}\n",
        "Expected Output:\n",
        "    X   Y   Z                                                         \n",
        "0  78  84  86                                                        \n",
        "1  85  94  97                                                         \n",
        "2  96  89  96                                                      \n",
        "3  80  83  72                                                         \n",
        "4  86  86  83\n",
        "\n",
        "```\n"
      ],
      "metadata": {
        "id": "IOLHAKSjI0cz"
      }
    },
    {
      "cell_type": "code",
      "source": [
        "import pandas as pd\n",
        "df = pd.DataFrame({'X':[78,85,96,80,86], 'Y':[84,94,89,83,86],'Z':[86,97,96,72,83]});\n",
        "print(df)"
      ],
      "metadata": {
        "colab": {
          "base_uri": "https://localhost:8080/"
        },
        "id": "zMNWo0436ke2",
        "outputId": "8f8832b3-0244-41a1-f60b-09f9b1b22117"
      },
      "execution_count": null,
      "outputs": [
        {
          "output_type": "stream",
          "name": "stdout",
          "text": [
            "    X   Y   Z\n",
            "0  78  84  86\n",
            "1  85  94  97\n",
            "2  96  89  96\n",
            "3  80  83  72\n",
            "4  86  86  83\n"
          ]
        }
      ]
    },
    {
      "cell_type": "markdown",
      "source": [
        "##2. Write a Pandas program to create and display a DataFrame from a specified dictionary data which has the index labels.\n",
        "```\n",
        "Sample Python dictionary data and list labels:\n",
        "exam_data = {'name': ['Anastasia', 'Dima', 'Katherine', 'James', 'Emily', 'Michael', 'Matthew', 'Laura', 'Kevin', 'Jonas'],\n",
        "'score': [12.5, 9, 16.5, np.nan, 9, 20, 14.5, np.nan, 8, 19],\n",
        "'attempts': [1, 3, 2, 3, 2, 3, 1, 1, 2, 1],\n",
        "'qualify': ['yes', 'no', 'yes', 'no', 'no', 'yes', 'yes', 'no', 'no', 'yes']}\n",
        "labels = ['a', 'b', 'c', 'd', 'e', 'f', 'g', 'h', 'i', 'j']\n",
        "```\n",
        "\n",
        "```\n",
        "Expected Output:\n",
        "   attempts       name qualify  score                              \n",
        "a         1  Anastasia     yes   12.5                                 \n",
        "b         3       Dima      no    9.0                                 \n",
        "....                              \n",
        "i         2      Kevin      no    8.0                                \n",
        "j         1      Jonas     yes   19.0\n",
        "\n",
        "```"
      ],
      "metadata": {
        "id": "kaEX2PN6I7s_"
      }
    },
    {
      "cell_type": "code",
      "source": [
        "import pandas as pd\n",
        "import numpy as np\n",
        "\n",
        "exam_data  = {'name': ['Anastasia', 'Dima', 'Katherine', 'James', 'Emily', 'Michael', 'Matthew', 'Laura', 'Kevin', 'Jonas'],\n",
        "        'score': [12.5, 9, 16.5, np.nan, 9, 20, 14.5, np.nan, 8, 19],\n",
        "        'attempts': [1, 3, 2, 3, 2, 3, 1, 1, 2, 1],\n",
        "        'qualify': ['yes', 'no', 'yes', 'no', 'no', 'yes', 'yes', 'no', 'no', 'yes']}\n",
        "labels = ['a', 'b', 'c', 'd', 'e', 'f', 'g', 'h', 'i', 'j']\n",
        "\n",
        "df = pd.DataFrame(exam_data , index=labels)\n",
        "print(df)\n"
      ],
      "metadata": {
        "colab": {
          "base_uri": "https://localhost:8080/"
        },
        "id": "TO8rLogO6-Jv",
        "outputId": "f4b1f949-c454-4a3a-a426-dcd23e9ab9d7"
      },
      "execution_count": null,
      "outputs": [
        {
          "output_type": "stream",
          "name": "stdout",
          "text": [
            "        name  score  attempts qualify\n",
            "a  Anastasia   12.5         1     yes\n",
            "b       Dima    9.0         3      no\n",
            "c  Katherine   16.5         2     yes\n",
            "d      James    NaN         3      no\n",
            "e      Emily    9.0         2      no\n",
            "f    Michael   20.0         3     yes\n",
            "g    Matthew   14.5         1     yes\n",
            "h      Laura    NaN         1      no\n",
            "i      Kevin    8.0         2      no\n",
            "j      Jonas   19.0         1     yes\n"
          ]
        }
      ]
    },
    {
      "cell_type": "markdown",
      "source": [
        "##3. Write a Pandas program to get the first 3 rows of a given DataFrame.\n",
        "```\n",
        "Sample Python dictionary data and list labels:\n",
        "exam_data = {'name': ['Anastasia', 'Dima', 'Katherine', 'James', 'Emily', 'Michael', 'Matthew', 'Laura', 'Kevin', 'Jonas'],\n",
        "'score': [12.5, 9, 16.5, np.nan, 9, 20, 14.5, np.nan, 8, 19],\n",
        "'attempts': [1, 3, 2, 3, 2, 3, 1, 1, 2, 1],\n",
        "'qualify': ['yes', 'no', 'yes', 'no', 'no', 'yes', 'yes', 'no', 'no', 'yes']}\n",
        "labels = ['a', 'b', 'c', 'd', 'e', 'f', 'g', 'h', 'i', 'j']\n",
        "```\n",
        "\n",
        "```\n",
        "Expected Output:\n",
        "First three rows of the data frame:                                   \n",
        "   attempts       name qualify  score                              \n",
        "a         1  Anastasia     yes   12.5                                 \n",
        "b         3       Dima      no    9.0                                 \n",
        "c         2  Katherine     yes   16.5\n",
        "\n",
        "```"
      ],
      "metadata": {
        "id": "yT64ZxLnJNLt"
      }
    },
    {
      "cell_type": "code",
      "source": [
        "import pandas as pd\n",
        "import numpy as np\n",
        "\n",
        "exam_data  = {'name': ['Anastasia', 'Dima', 'Katherine', 'James', 'Emily', 'Michael', 'Matthew', 'Laura', 'Kevin', 'Jonas'],\n",
        "        'score': [12.5, 9, 16.5, np.nan, 9, 20, 14.5, np.nan, 8, 19],\n",
        "        'attempts': [1, 3, 2, 3, 2, 3, 1, 1, 2, 1],\n",
        "        'qualify': ['yes', 'no', 'yes', 'no', 'no', 'yes', 'yes', 'no', 'no', 'yes']}\n",
        "labels = ['a', 'b', 'c', 'd', 'e', 'f', 'g', 'h', 'i', 'j']\n",
        "\n",
        "df = pd.DataFrame(exam_data , index=labels)\n",
        "print(\"First three rows of the data frame:\")\n",
        "print(df.iloc[:3])\n"
      ],
      "metadata": {
        "colab": {
          "base_uri": "https://localhost:8080/"
        },
        "id": "bTNUNjJ-7el3",
        "outputId": "63851798-6831-42e0-8a70-dc05989fdf21"
      },
      "execution_count": null,
      "outputs": [
        {
          "output_type": "stream",
          "name": "stdout",
          "text": [
            "First three rows of the data frame:\n",
            "        name  score  attempts qualify\n",
            "a  Anastasia   12.5         1     yes\n",
            "b       Dima    9.0         3      no\n",
            "c  Katherine   16.5         2     yes\n"
          ]
        }
      ]
    },
    {
      "cell_type": "markdown",
      "source": [
        "##4.Write a Pandas program to select the 'name' and 'score' columns from the following DataFrame.\n",
        "\n",
        "```\n",
        "Sample Python dictionary data and list labels:\n",
        "exam_data = {'name': ['Anastasia', 'Dima', 'Katherine', 'James', 'Emily', 'Michael', 'Matthew', 'Laura', 'Kevin', 'Jonas'],\n",
        "'score': [12.5, 9, 16.5, np.nan, 9, 20, 14.5, np.nan, 8, 19],\n",
        "'attempts': [1, 3, 2, 3, 2, 3, 1, 1, 2, 1],\n",
        "'qualify': ['yes', 'no', 'yes', 'no', 'no', 'yes', 'yes', 'no', 'no', 'yes']}\n",
        "labels = ['a', 'b', 'c', 'd', 'e', 'f', 'g', 'h', 'i', 'j']\n",
        "```\n",
        "```\n",
        "Expected Output:\n",
        "Select specific columns:                                               \n",
        "        name  score                                                  \n",
        "a  Anastasia   12.5                                                   \n",
        "b       Dima    9.0                                                \n",
        "c  Katherine   16.5                                                    \n",
        "...                                                  \n",
        "h      Laura    NaN                                                   \n",
        "i      Kevin    8.0                                                  \n",
        "j      Jonas   19.0\n",
        "```"
      ],
      "metadata": {
        "id": "oju0J2PQJXkF"
      }
    },
    {
      "cell_type": "code",
      "source": [
        "import pandas as pd\n",
        "import numpy as np\n",
        "\n",
        "exam_data  = {'name': ['Anastasia', 'Dima', 'Katherine', 'James', 'Emily', 'Michael', 'Matthew', 'Laura', 'Kevin', 'Jonas'],\n",
        "        'score': [12.5, 9, 16.5, np.nan, 9, 20, 14.5, np.nan, 8, 19],\n",
        "        'attempts': [1, 3, 2, 3, 2, 3, 1, 1, 2, 1],\n",
        "        'qualify': ['yes', 'no', 'yes', 'no', 'no', 'yes', 'yes', 'no', 'no', 'yes']}\n",
        "labels = ['a', 'b', 'c', 'd', 'e', 'f', 'g', 'h', 'i', 'j']\n",
        "\n",
        "df = pd.DataFrame(exam_data , index=labels)\n",
        "print(\"Select specific columns:\")\n",
        "print(df[['name', 'score']])\n"
      ],
      "metadata": {
        "colab": {
          "base_uri": "https://localhost:8080/"
        },
        "id": "XbH3lULE8Nsw",
        "outputId": "2acfcada-c86d-471c-e32a-c5fe2759de73"
      },
      "execution_count": null,
      "outputs": [
        {
          "output_type": "stream",
          "name": "stdout",
          "text": [
            "Select specific columns:\n",
            "        name  score\n",
            "a  Anastasia   12.5\n",
            "b       Dima    9.0\n",
            "c  Katherine   16.5\n",
            "d      James    NaN\n",
            "e      Emily    9.0\n",
            "f    Michael   20.0\n",
            "g    Matthew   14.5\n",
            "h      Laura    NaN\n",
            "i      Kevin    8.0\n",
            "j      Jonas   19.0\n"
          ]
        }
      ]
    },
    {
      "cell_type": "markdown",
      "source": [
        "##5.  Write a Pandas program to select the specified columns and rows from a given data frame.\n",
        "```\n",
        "Sample Python dictionary data and list labels:\n",
        "Select 'name' and 'score' columns in rows 1, 3, 5, 6 from the following data frame.\n",
        "exam_data = {'name': ['Anastasia', 'Dima', 'Katherine', 'James', 'Emily', 'Michael', 'Matthew', 'Laura', 'Kevin', 'Jonas'],\n",
        "'score': [12.5, 9, 16.5, np.nan, 9, 20, 14.5, np.nan, 8, 19],\n",
        "'attempts': [1, 3, 2, 3, 2, 3, 1, 1, 2, 1],\n",
        "'qualify': ['yes', 'no', 'yes', 'no', 'no', 'yes', 'yes', 'no', 'no', 'yes']}\n",
        "labels = ['a', 'b', 'c', 'd', 'e', 'f', 'g', 'h', 'i', 'j']\n",
        "```\n",
        "```\n",
        "Expected Output:\n",
        "Select specific columns and rows:\n",
        "   score qualify\n",
        "b    9.0      no\n",
        "d    NaN      no\n",
        "f   20.0     yes\n",
        "g   14.5     yes\n",
        "\n",
        "```"
      ],
      "metadata": {
        "id": "IPLZcBpjJldx"
      }
    },
    {
      "cell_type": "code",
      "source": [
        "import pandas as pd\n",
        "import numpy as np\n",
        "\n",
        "exam_data = {\n",
        "    'name': ['Anastasia', 'Dima', 'Katherine', 'James', 'Emily', 'Michael', 'Matthew', 'Laura', 'Kevin', 'Jonas'],\n",
        "    'score': [12.5, 9, 16.5, np.nan, 9, 20, 14.5, np.nan, 8, 19],\n",
        "    'attempts': [1, 3, 2, 3, 2, 3, 1, 1, 2, 1],\n",
        "    'qualify': ['yes', 'no', 'yes', 'no', 'no', 'yes', 'yes', 'no', 'no', 'yes']\n",
        "}\n",
        "labels = ['a', 'b', 'c', 'd', 'e', 'f', 'g', 'h', 'i', 'j']\n",
        "\n",
        "df = pd.DataFrame(exam_data, index=labels)\n",
        "\n",
        "selected_data = df.loc[['b', 'd', 'f', 'g'], ['score', 'qualify']]\n",
        "\n",
        "print(\"Select specific columns and rows:\")\n",
        "print(selected_data)"
      ],
      "metadata": {
        "colab": {
          "base_uri": "https://localhost:8080/"
        },
        "id": "zVKoagzD8laf",
        "outputId": "dd534ffc-2890-4bad-c9d9-888329556679"
      },
      "execution_count": null,
      "outputs": [
        {
          "output_type": "stream",
          "name": "stdout",
          "text": [
            "Select specific columns and rows:\n",
            "   score qualify\n",
            "b    9.0      no\n",
            "d    NaN      no\n",
            "f   20.0     yes\n",
            "g   14.5     yes\n"
          ]
        }
      ]
    },
    {
      "cell_type": "code",
      "source": [],
      "metadata": {
        "id": "1b6hcQixHit9"
      },
      "execution_count": null,
      "outputs": []
    },
    {
      "cell_type": "markdown",
      "source": [
        "##6. Write a Pandas program to select the rows where the number of attempts in the examination is greater than 2.\n",
        "\n",
        "```\n",
        "Sample Python dictionary data and list labels:\n",
        "exam_data = {'name': ['Anastasia', 'Dima', 'Katherine', 'James', 'Emily', 'Michael', 'Matthew', 'Laura', 'Kevin', 'Jonas'],\n",
        "'score': [12.5, 9, 16.5, np.nan, 9, 20, 14.5, np.nan, 8, 19],\n",
        "'attempts': [1, 3, 2, 3, 2, 3, 1, 1, 2, 1],\n",
        "'qualify': ['yes', 'no', 'yes', 'no', 'no', 'yes', 'yes', 'no', 'no', 'yes']}\n",
        "labels = ['a', 'b', 'c', 'd', 'e', 'f', 'g', 'h', 'i', 'j']\n",
        "```\n",
        "\n",
        "```\n",
        "Expected Output:\n",
        "Number of attempts in the examination is greater than 2:\n",
        "      name  score  attempts qualify\n",
        "b     Dima    9.0         3      no\n",
        "d    James    NaN         3      no\n",
        "f  Michael   20.0         3     yes\n",
        "\n",
        "```"
      ],
      "metadata": {
        "id": "fTlzhTKbqQ7e"
      }
    },
    {
      "cell_type": "code",
      "source": [
        "import pandas as pd\n",
        "import numpy as np\n",
        "\n",
        "exam_data = {\n",
        "    'name': ['Anastasia', 'Dima', 'Katherine', 'James', 'Emily', 'Michael', 'Matthew', 'Laura', 'Kevin', 'Jonas'],\n",
        "    'score': [12.5, 9, 16.5, np.nan, 9, 20, 14.5, np.nan, 8, 19],\n",
        "    'attempts': [1, 3, 2, 3, 2, 3, 1, 1, 2, 1],\n",
        "    'qualify': ['yes', 'no', 'yes', 'no', 'no', 'yes', 'yes', 'no', 'no', 'yes']\n",
        "}\n",
        "labels = ['a', 'b', 'c', 'd', 'e', 'f', 'g', 'h', 'i', 'j']\n",
        "\n",
        "df = pd.DataFrame(exam_data, index=labels)\n",
        "\n",
        "selected_data = df[df['attempts'] > 2]\n",
        "\n",
        "print(\"Number of attempts in the examination is greater than 2:\")\n",
        "print(selected_data)\n"
      ],
      "metadata": {
        "id": "GYfjiqTWAuT3",
        "colab": {
          "base_uri": "https://localhost:8080/"
        },
        "outputId": "53013067-ae5c-4287-e706-e6f1d75f4e20"
      },
      "execution_count": null,
      "outputs": [
        {
          "output_type": "stream",
          "name": "stdout",
          "text": [
            "Number of attempts in the examination is greater than 2:\n",
            "      name  score  attempts qualify\n",
            "b     Dima    9.0         3      no\n",
            "d    James    NaN         3      no\n",
            "f  Michael   20.0         3     yes\n"
          ]
        }
      ]
    },
    {
      "cell_type": "markdown",
      "source": [
        "##7. Write a Pandas program to select the rows where the score is missing, i.e. is NaN.\n",
        "\n",
        "```\n",
        "Sample Python dictionary data and list labels:\n",
        "exam_data = {'name': ['Anastasia', 'Dima', 'Katherine', 'James', 'Emily', 'Michael', 'Matthew', 'Laura', 'Kevin', 'Jonas'],\n",
        "'score': [12.5, 9, 16.5, np.nan, 9, 20, 14.5, np.nan, 8, 19],\n",
        "'attempts': [1, 3, 2, 3, 2, 3, 1, 1, 2, 1],\n",
        "'qualify': ['yes', 'no', 'yes', 'no', 'no', 'yes', 'yes', 'no', 'no', 'yes']}\n",
        "labels = ['a', 'b', 'c', 'd', 'e', 'f', 'g', labels = ['a', 'b', 'c', 'd', 'e', 'f', 'g', 'h', 'i', 'j']\n",
        "```\n",
        "\n",
        "```\n",
        "Expected Output:\n",
        "Rows where score is missing:\n",
        "   attempts   name qualify  score\n",
        "d         3  James      no    NaN\n",
        "h         1  Laura      no    NaN\n",
        "\n",
        "```"
      ],
      "metadata": {
        "id": "-8QV9ZHjqa1P"
      }
    },
    {
      "cell_type": "code",
      "source": [
        "import pandas as pd\n",
        "import numpy as np\n",
        "exam_data  = {'name': ['Anastasia', 'Dima', 'Katherine', 'James', 'Emily', 'Michael', 'Matthew', 'Laura', 'Kevin', 'Jonas'],\n",
        "        'score': [12.5, 9, 16.5, np.nan, 9, 20, 14.5, np.nan, 8, 19],\n",
        "        'attempts': [1, 3, 2, 3, 2, 3, 1, 1, 2, 1],\n",
        "        'qualify': ['yes', 'no', 'yes', 'no', 'no', 'yes', 'yes', 'no', 'no', 'yes']}\n",
        "labels = ['a', 'b', 'c', 'd', 'e', 'f', 'g', 'h', 'i', 'j']\n",
        "\n",
        "df = pd.DataFrame(exam_data , index=labels)\n",
        "selected_data = df[df['attempts'] > 2]\n",
        "print(df[df['score'].isnull()])\n"
      ],
      "metadata": {
        "id": "WrUBKXMKqrHF",
        "colab": {
          "base_uri": "https://localhost:8080/"
        },
        "outputId": "c81ad087-7f78-406c-b7e8-ce42a1f12302"
      },
      "execution_count": null,
      "outputs": [
        {
          "output_type": "stream",
          "name": "stdout",
          "text": [
            "    name  score  attempts qualify\n",
            "d  James    NaN         3      no\n",
            "h  Laura    NaN         1      no\n"
          ]
        }
      ]
    },
    {
      "cell_type": "markdown",
      "source": [
        "##8. Write a Pandas program to select the rows the score is between 15 and 20 (inclusive).\n",
        "```\n",
        "Sample Python dictionary data and list labels:\n",
        "exam_data = {'name': ['Anastasia', 'Dima', 'Katherine', 'James', 'Emily', 'Michael', 'Matthew', 'Laura', 'Kevin', 'Jonas'],\n",
        "'score': [12.5, 9, 16.5, np.nan, 9, 20, 14.5, np.nan, 8, 19],\n",
        "'attempts': [1, 3, 2, 3, 2, 3, 1, 1, 2, 1],\n",
        "'qualify': ['yes', 'no', 'yes', 'no', 'no', 'yes', 'yes', 'no', 'no', 'yes']}\n",
        "labels = ['a', 'b', 'c', 'd', 'e', 'f', 'g', labels = ['a', 'b', 'c', 'd', 'e', 'f', 'g', 'h', 'i', 'j']\n",
        "```\n",
        "```\n",
        "Expected Output:\n",
        "Rows where score between 15 and 20 (inclusive):                        \n",
        "   attempts       name qualify  score                                  \n",
        "c         2  Katherine     yes   16.5                                \n",
        "f         3    Michael     yes   20.0                                 \n",
        "j         1      Jonas     yes   19.0\n",
        "```\n"
      ],
      "metadata": {
        "id": "Wul2T54jqvf0"
      }
    },
    {
      "cell_type": "code",
      "source": [
        "import pandas as pd\n",
        "import numpy as np\n",
        "\n",
        "exam_data = {\n",
        "    'name': ['Anastasia', 'Dima', 'Katherine', 'James', 'Emily', 'Michael', 'Matthew', 'Laura', 'Kevin', 'Jonas'],\n",
        "    'score': [12.5, 9, 16.5, np.nan, 9, 20, 14.5, np.nan, 8, 19],\n",
        "    'attempts': [1, 3, 2, 3, 2, 3, 1, 1, 2, 1],\n",
        "    'qualify': ['yes', 'no', 'yes', 'no', 'no', 'yes', 'yes', 'no', 'no', 'yes']\n",
        "}\n",
        "labels = ['a', 'b', 'c', 'd', 'e', 'f', 'g', 'h', 'i', 'j']\n",
        "\n",
        "df = pd.DataFrame(exam_data, index=labels)\n",
        "\n",
        "selected_data = df[(df['score'] >= 15) & (df['score'] <= 20)]\n",
        "\n",
        "print(\"Rows where score between 15 and 20 (inclusive):\")\n",
        "print(selected_data)\n"
      ],
      "metadata": {
        "id": "gpB-XPmJq0x1",
        "colab": {
          "base_uri": "https://localhost:8080/"
        },
        "outputId": "070efe3f-b558-4514-b937-db04effd41b6"
      },
      "execution_count": null,
      "outputs": [
        {
          "output_type": "stream",
          "name": "stdout",
          "text": [
            "Rows where score between 15 and 20 (inclusive):\n",
            "        name  score  attempts qualify\n",
            "c  Katherine   16.5         2     yes\n",
            "f    Michael   20.0         3     yes\n",
            "j      Jonas   19.0         1     yes\n"
          ]
        }
      ]
    },
    {
      "cell_type": "markdown",
      "source": [
        "##9. Write a Pandas program to select the rows where number of attempts in the examination is less than 2 and score greater than 15.\n",
        "\n",
        "```\n",
        "Sample Python dictionary data and list labels:\n",
        "exam_data = {'name': ['Anastasia', 'Dima', 'Katherine', 'James', 'Emily', 'Michael', 'Matthew', 'Laura', 'Kevin', 'Jonas'],\n",
        "'score': [12.5, 9, 16.5, np.nan, 9, 20, 14.5, np.nan, 8, 19],\n",
        "'attempts': [1, 3, 2, 3, 2, 3, 1, 1, 2, 1],\n",
        "'qualify': ['yes', 'no', 'yes', 'no', 'no', 'yes', 'yes', 'no', 'no', 'yes']}\n",
        "labels = ['a', 'b', 'c', 'd', 'e', 'f', 'g', labels = ['a', 'b', 'c', 'd', 'e', 'f', 'g', 'h', 'i', 'j']\n",
        "```\n",
        "```\n",
        "Expected Output:\n",
        "Number of attempts in the examination is less than 2 and score greater than 15 :\n",
        "    name  score  attempts qualify\n",
        "j  Jonas   19.0         1     yes\n",
        "\n",
        "```"
      ],
      "metadata": {
        "id": "W6WRzh-uq5Ln"
      }
    },
    {
      "cell_type": "code",
      "source": [
        "import pandas as pd\n",
        "import numpy as np\n",
        "\n",
        "# Sample data\n",
        "exam_data = {\n",
        "    'name': ['Anastasia', 'Dima', 'Katherine', 'James', 'Emily', 'Michael', 'Matthew', 'Laura', 'Kevin', 'Jonas'],\n",
        "    'score': [12.5, 9, 16.5, np.nan, 9, 20, 14.5, np.nan, 8, 19],\n",
        "    'attempts': [1, 3, 2, 3, 2, 3, 1, 1, 2, 1],\n",
        "    'qualify': ['yes', 'no', 'yes', 'no', 'no', 'yes', 'yes', 'no', 'no', 'yes']\n",
        "}\n",
        "labels = ['a', 'b', 'c', 'd', 'e', 'f', 'g', 'h', 'i', 'j']\n",
        "\n",
        "# Create DataFrame\n",
        "df = pd.DataFrame(exam_data, index=labels)\n",
        "\n",
        "# Select rows where number of attempts is less than 2 and score greater than 15\n",
        "selected_data = df[(df['attempts'] < 2) & (df['score'] > 15)]\n",
        "\n",
        "# Display the selected data\n",
        "print(\"Number of attempts in the examination is less than 2 and score greater than 15:\")\n",
        "print(selected_data)\n"
      ],
      "metadata": {
        "id": "8LDEhGiUq-xT",
        "colab": {
          "base_uri": "https://localhost:8080/"
        },
        "outputId": "e2e3dfb0-edce-4470-c4a6-6cf14c95d70f"
      },
      "execution_count": null,
      "outputs": [
        {
          "output_type": "stream",
          "name": "stdout",
          "text": [
            "Number of attempts in the examination is less than 2 and score greater than 15:\n",
            "    name  score  attempts qualify\n",
            "j  Jonas   19.0         1     yes\n"
          ]
        }
      ]
    },
    {
      "cell_type": "markdown",
      "source": [
        "##10. Write a Pandas program to change the score in row 'd' to 11.5.\n",
        "\n",
        "```\n",
        "Sample Python dictionary data and list labels:\n",
        "exam_data = {'name': ['Anastasia', 'Dima', 'Katherine', 'James', 'Emily', 'Michael', 'Matthew', 'Laura', 'Kevin', 'Jonas'],\n",
        "'score': [12.5, 9, 16.5, np.nan, 9, 20, 14.5, np.nan, 8, 19],\n",
        "'attempts': [1, 3, 2, 3, 2, 3, 1, 1, 2, 1],\n",
        "'qualify': ['yes', 'no', 'yes', 'no', 'no', 'yes', 'yes', 'no', 'no', 'yes']}\n",
        "labels = ['a', 'b', 'c', 'd', 'e', 'f', 'g', 'h', 'i', 'j']\n",
        "\n",
        "```\n",
        "\n",
        "```\n",
        "Expected Output:\n",
        "Change the score in row 'd' to 11.5:                                  \n",
        "   attempts       name qualify  score                                \n",
        "a         1  Anastasia     yes   12.5                               \n",
        "b         3       Dima      no    9.0                                \n",
        "c         2  Katherine     yes   16.5\n",
        "...                                \n",
        "i         2      Kevin      no    8.0                                 \n",
        "j         1      Jonas     yes   19.0\n",
        "\n",
        "```"
      ],
      "metadata": {
        "id": "pUnX1JFJrLmD"
      }
    },
    {
      "cell_type": "code",
      "source": [
        "import pandas as pd\n",
        "import numpy as np\n",
        "\n",
        "exam_data = {\n",
        "    'name': ['Anastasia', 'Dima', 'Katherine', 'James', 'Emily', 'Michael', 'Matthew', 'Laura', 'Kevin', 'Jonas'],\n",
        "    'score': [12.5, 9, 16.5, np.nan, 9, 20, 14.5, np.nan, 8, 19],\n",
        "    'attempts': [1, 3, 2, 3, 2, 3, 1, 1, 2, 1],\n",
        "    'qualify': ['yes', 'no', 'yes', 'no', 'no', 'yes', 'yes', 'no', 'no', 'yes']\n",
        "}\n",
        "labels = ['a', 'b', 'c', 'd', 'e', 'f', 'g', 'h', 'i', 'j']\n",
        "\n",
        "df = pd.DataFrame(exam_data, index=labels)\n",
        "\n",
        "df.at['d', 'score'] = 11.5\n",
        "\n",
        "print(\"Change the score in row 'd' to 11.5:\")\n",
        "print(df)\n"
      ],
      "metadata": {
        "id": "wxhJfGnarSMH",
        "colab": {
          "base_uri": "https://localhost:8080/"
        },
        "outputId": "df6e4ddd-29f2-4a6a-9c41-0ac4af39790d"
      },
      "execution_count": null,
      "outputs": [
        {
          "output_type": "stream",
          "name": "stdout",
          "text": [
            "Change the score in row 'd' to 11.5:\n",
            "        name  score  attempts qualify\n",
            "a  Anastasia   12.5         1     yes\n",
            "b       Dima    9.0         3      no\n",
            "c  Katherine   16.5         2     yes\n",
            "d      James   11.5         3      no\n",
            "e      Emily    9.0         2      no\n",
            "f    Michael   20.0         3     yes\n",
            "g    Matthew   14.5         1     yes\n",
            "h      Laura    NaN         1      no\n",
            "i      Kevin    8.0         2      no\n",
            "j      Jonas   19.0         1     yes\n"
          ]
        }
      ]
    },
    {
      "cell_type": "markdown",
      "source": [
        "##11. Write a Pandas program to calculate the sum of the examination attempts by the students.\n",
        "```\n",
        "Sample Python dictionary data and list labels:\n",
        "exam_data = {'name': ['Anastasia', 'Dima', 'Katherine', 'James', 'Emily', 'Michael', 'Matthew', 'Laura', 'Kevin', 'Jonas'],\n",
        "'score': [12.5, 9, 16.5, np.nan, 9, 20, 14.5, np.nan, 8, 19],\n",
        "'attempts': [1, 3, 2, 3, 2, 3, 1, 1, 2, 1],\n",
        "'qualify': ['yes', 'no', 'yes', 'no', 'no', 'yes', 'yes', 'no', 'no', 'yes']}\n",
        "labels = ['a', 'b', 'c', 'd', 'e', 'f', 'g', 'h', 'i', 'j']\n",
        "```\n",
        "```\n",
        "Expected Output:\n",
        "Sum of the examination attempts by the students:                     \n",
        "19\n",
        "```"
      ],
      "metadata": {
        "id": "AwcBiDaSrTM3"
      }
    },
    {
      "cell_type": "code",
      "source": [
        "import pandas as pd\n",
        "import numpy as np\n",
        "exam_data = {\n",
        "    'name': ['Anastasia', 'Dima', 'Katherine', 'James', 'Emily', 'Michael', 'Matthew', 'Laura', 'Kevin', 'Jonas'],\n",
        "    'score': [12.5, 9, 16.5, np.nan, 9, 20, 14.5, np.nan, 8, 19],\n",
        "    'attempts': [1, 3, 2, 3, 2, 3, 1, 1, 2, 1],\n",
        "    'qualify': ['yes', 'no', 'yes', 'no', 'no', 'yes', 'yes', 'no', 'no', 'yes']\n",
        "}\n",
        "labels = ['a', 'b', 'c', 'd', 'e', 'f', 'g', 'h', 'i', 'j']\n",
        "\n",
        "df = pd.DataFrame(exam_data, index=labels)\n",
        "\n",
        "\n",
        "sum_attempts = df['attempts'].sum()\n",
        "\n",
        "print(\"Sum of the examination attempts by the students:\")\n",
        "print(sum_attempts)\n"
      ],
      "metadata": {
        "id": "G6ebFduRrZ6D",
        "colab": {
          "base_uri": "https://localhost:8080/"
        },
        "outputId": "67b293b7-8bde-4d16-b470-8adb05d65a24"
      },
      "execution_count": null,
      "outputs": [
        {
          "output_type": "stream",
          "name": "stdout",
          "text": [
            "Sum of the examination attempts by the students:\n",
            "19\n"
          ]
        }
      ]
    },
    {
      "cell_type": "markdown",
      "source": [
        "##12. Write a Pandas program to calculate the mean of all students' scores. Data is stored in a dataframe.\n",
        "```\n",
        "Sample Python dictionary data and list labels:\n",
        "exam_data = {'name': ['Anastasia', 'Dima', 'Katherine', 'James', 'Emily', 'Michael', 'Matthew', 'Laura', 'Kevin', 'Jonas'],\n",
        "'score': [12.5, 9, 16.5, np.nan, 9, 20, 14.5, np.nan, 8, 19],\n",
        "'attempts': [1, 3, 2, 3, 2, 3, 1, 1, 2, 1],\n",
        "'qualify': ['yes', 'no', 'yes', 'no', 'no', 'yes', 'yes', 'no', 'no', 'yes']}\n",
        "labels = ['a', 'b', 'c', 'd', 'e', 'f', 'g', 'h', 'i', 'j']\n",
        "```\n",
        "```\n",
        "Expected Output:\n",
        "Mean score for each different student in data frame:                  \n",
        "13.5625\n",
        "```"
      ],
      "metadata": {
        "id": "NCpyXg-Jrfjr"
      }
    },
    {
      "cell_type": "code",
      "source": [
        "import pandas as pd\n",
        "import numpy as np\n",
        "exam_data = {\n",
        "    'name': ['Anastasia', 'Dima', 'Katherine', 'James', 'Emily', 'Michael', 'Matthew', 'Laura', 'Kevin', 'Jonas'],\n",
        "    'score': [12.5, 9, 16.5, np.nan, 9, 20, 14.5, np.nan, 8, 19],\n",
        "    'attempts': [1, 3, 2, 3, 2, 3, 1, 1, 2, 1],\n",
        "    'qualify': ['yes', 'no', 'yes', 'no', 'no', 'yes', 'yes', 'no', 'no', 'yes']\n",
        "}\n",
        "labels = ['a', 'b', 'c', 'd', 'e', 'f', 'g', 'h', 'i', 'j']\n",
        "\n",
        "df = pd.DataFrame(exam_data, index=labels)\n",
        "\n",
        "mean_score = df['score'].mean()\n",
        "\n",
        "print(\"Mean score for each different student in data frame:\")\n",
        "print(mean_score)\n"
      ],
      "metadata": {
        "id": "87dA6nqarop9",
        "colab": {
          "base_uri": "https://localhost:8080/"
        },
        "outputId": "1180a5b5-2d50-40d7-ebde-7c0fef758ec3"
      },
      "execution_count": null,
      "outputs": [
        {
          "output_type": "stream",
          "name": "stdout",
          "text": [
            "Mean score for each different student in data frame:\n",
            "13.5625\n"
          ]
        }
      ]
    },
    {
      "cell_type": "markdown",
      "source": [
        "##13. Write a Pandas program to replace the 'qualify' column contains the values 'yes' and 'no' with True and False.\n",
        "\n",
        "```\n",
        "Sample Python dictionary data and list labels:\n",
        "exam_data = {'name': ['Anastasia', 'Dima', 'Katherine', 'James', 'Emily', 'Michael', 'Matthew', 'Laura', 'Kevin', 'Jonas'],\n",
        "'score': [12.5, 9, 16.5, np.nan, 9, 20, 14.5, np.nan, 8, 19],\n",
        "'attempts': [1, 3, 2, 3, 2, 3, 1, 1, 2, 1],\n",
        "'qualify': ['yes', 'no', 'yes', 'no', 'no', 'yes', 'yes', 'no', 'no', 'yes']}\n",
        "labels = ['a', 'b', 'c', 'd', 'e', 'f', 'g', 'h', 'i', 'j']\n",
        "```\n",
        "\n",
        "```\n",
        "Expected Output:\n",
        "Replace the 'qualify' column contains the values 'yes' and 'no'  with T\n",
        "rue and  False:                                                      \n",
        "   attempts       name  qualify  score                              \n",
        "a         1  Anastasia     True   12.5                          \n",
        "b         3       Dima    False    9.0                              \n",
        "......                           \n",
        "i         2      Kevin    False    8.0                                 \n",
        "j         1      Jonas     True   19.0\n",
        "```"
      ],
      "metadata": {
        "id": "1fZOVLG9sLTo"
      }
    },
    {
      "cell_type": "code",
      "source": [
        "import numpy as np\n",
        "import pandas as pd\n",
        "exam_data = {\n",
        "    'name': ['Anastasia', 'Dima', 'Katherine', 'James', 'Emily', 'Michael', 'Matthew', 'Laura', 'Kevin', 'Jonas'],\n",
        "    'score': [12.5, 9, 16.5, np.nan, 9, 20, 14.5, np.nan, 8, 19],\n",
        "    'attempts': [1, 3, 2, 3, 2, 3, 1, 1, 2, 1],\n",
        "    'qualify': ['yes', 'no', 'yes', 'no', 'no', 'yes', 'yes', 'no', 'no', 'yes']\n",
        "}\n",
        "labels = ['a', 'b', 'c', 'd', 'e', 'f', 'g', 'h', 'i', 'j']\n",
        "\n",
        "df = pd.DataFrame(exam_data, index=labels)\n",
        "\n",
        "df['qualify'] = df['qualify'].map({'yes': True, 'no': False})\n",
        "\n",
        "print(\"Replace the 'qualify' column contains the values 'yes' and 'no' with True and False:\")\n",
        "print(df)\n"
      ],
      "metadata": {
        "id": "zIup3T_OsRd7",
        "colab": {
          "base_uri": "https://localhost:8080/"
        },
        "outputId": "5c16faac-5374-4f0a-98c9-cbf0d5572712"
      },
      "execution_count": null,
      "outputs": [
        {
          "output_type": "stream",
          "name": "stdout",
          "text": [
            "Replace the 'qualify' column contains the values 'yes' and 'no' with True and False:\n",
            "        name  score  attempts  qualify\n",
            "a  Anastasia   12.5         1     True\n",
            "b       Dima    9.0         3    False\n",
            "c  Katherine   16.5         2     True\n",
            "d      James    NaN         3    False\n",
            "e      Emily    9.0         2    False\n",
            "f    Michael   20.0         3     True\n",
            "g    Matthew   14.5         1     True\n",
            "h      Laura    NaN         1    False\n",
            "i      Kevin    8.0         2    False\n",
            "j      Jonas   19.0         1     True\n"
          ]
        }
      ]
    },
    {
      "cell_type": "markdown",
      "source": [
        "##14. Write a Pandas program to change the name 'James' to 'Suresh' in name column of the DataFrame.\n",
        "\n",
        "```\n",
        "Sample Python dictionary data and list labels:\n",
        "exam_data = {'name': ['Anastasia', 'Dima', 'Katherine', 'James', 'Emily', 'Michael', 'Matthew', 'Laura', 'Kevin', 'Jonas'],\n",
        "'score': [12.5, 9, 16.5, np.nan, 9, 20, 14.5, np.nan, 8, 19],\n",
        "'attempts': [1, 3, 2, 3, 2, 3, 1, 1, 2, 1],\n",
        "'qualify': ['yes', 'no', 'yes', 'no', 'no', 'yes', 'yes', 'no', 'no', 'yes']}\n",
        "labels = ['a', 'b', 'c', 'd', 'e', 'f', 'g', 'h', 'i', 'j']\n",
        "```\n",
        "```\n",
        "Expected Output:\n",
        "Change the name 'James' to \\?Suresh\\?:                                \n",
        "   attempts       name qualify  score                                  \n",
        "a         1  Anastasia     yes   12.5                                  \n",
        "b         3       Dima      no    9.0                                  \n",
        ".......                               \n",
        "i         2      Kevin      no    8.0                                 \n",
        "j         1      Jonas     yes   19.0\n",
        "```"
      ],
      "metadata": {
        "id": "VevSITkvsSH-"
      }
    },
    {
      "cell_type": "code",
      "source": [
        "import pandas as pd\n",
        "import numpy as np\n",
        "\n",
        "exam_data = {\n",
        "    'name': ['Anastasia', 'Dima', 'Katherine', 'James', 'Emily', 'Michael', 'Matthew', 'Laura', 'Kevin', 'Jonas'],\n",
        "    'score': [12.5, 9, 16.5, np.nan, 9, 20, 14.5, np.nan, 8, 19],\n",
        "    'attempts': [1, 3, 2, 3, 2, 3, 1, 1, 2, 1],\n",
        "    'qualify': ['yes', 'no', 'yes', 'no', 'no', 'yes', 'yes', 'no', 'no', 'yes']\n",
        "}\n",
        "\n",
        "labels = ['a', 'b', 'c', 'd', 'e', 'f', 'g', 'h', 'i', 'j']\n",
        "\n",
        "df = pd.DataFrame(exam_data, index=labels)\n",
        "\n",
        "df['name'] = df['name'].replace('James', 'Suresh')\n",
        "\n",
        "print(\"Change the name 'James' to 'Suresh':\\n\", df)\n"
      ],
      "metadata": {
        "id": "GPlad_JGsZuF",
        "colab": {
          "base_uri": "https://localhost:8080/"
        },
        "outputId": "7b907290-3f15-49ff-c9fc-ad90ba9d81cb"
      },
      "execution_count": null,
      "outputs": [
        {
          "output_type": "stream",
          "name": "stdout",
          "text": [
            "Change the name 'James' to 'Suresh':\n",
            "         name  score  attempts qualify\n",
            "a  Anastasia   12.5         1     yes\n",
            "b       Dima    9.0         3      no\n",
            "c  Katherine   16.5         2     yes\n",
            "d     Suresh    NaN         3      no\n",
            "e      Emily    9.0         2      no\n",
            "f    Michael   20.0         3     yes\n",
            "g    Matthew   14.5         1     yes\n",
            "h      Laura    NaN         1      no\n",
            "i      Kevin    8.0         2      no\n",
            "j      Jonas   19.0         1     yes\n"
          ]
        }
      ]
    },
    {
      "cell_type": "markdown",
      "source": [
        "##15. Write a Pandas program to delete the 'attempts' column from the DataFrame.\n",
        "```\n",
        "Sample Python dictionary data and list labels:\n",
        "exam_data = {'name': ['Anastasia', 'Dima', 'Katherine', 'James', 'Emily', 'Michael', 'Matthew', 'Laura', 'Kevin', 'Jonas'],\n",
        "'score': [12.5, 9, 16.5, np.nan, 9, 20, 14.5, np.nan, 8, 19],\n",
        "'attempts': [1, 3, 2, 3, 2, 3, 1, 1, 2, 1],\n",
        "'qualify': ['yes', 'no', 'yes', 'no', 'no', 'yes', 'yes', 'no', 'no', 'yes']}\n",
        "labels = ['a', 'b', 'c', 'd', 'e', 'f', 'g', 'h', 'i', 'j']\n",
        "```\n",
        "```\n",
        "Expected Output:\n",
        "Delete the 'attempts' column from the data frame:                    \n",
        "        name qualify  score                                          \n",
        "a  Anastasia     yes   12.5                                           \n",
        "b       Dima      no    9.0                                          \n",
        ".....                                       \n",
        "i      Kevin      no    8.0                                          \n",
        "j      Jonas     yes   19.0\n",
        "```"
      ],
      "metadata": {
        "id": "SOkgCA-XsftL"
      }
    },
    {
      "cell_type": "code",
      "source": [
        "import pandas as pd\n",
        "import numpy as np\n",
        "\n",
        "exam_data = {\n",
        "    'name': ['Anastasia', 'Dima', 'Katherine', 'James', 'Emily', 'Michael', 'Matthew', 'Laura', 'Kevin', 'Jonas'],\n",
        "    'score': [12.5, 9, 16.5, np.nan, 9, 20, 14.5, np.nan, 8, 19],\n",
        "    'attempts': [1, 3, 2, 3, 2, 3, 1, 1, 2, 1],\n",
        "    'qualify': ['yes', 'no', 'yes', 'no', 'no', 'yes', 'yes', 'no', 'no', 'yes']\n",
        "}\n",
        "\n",
        "labels = ['a', 'b', 'c', 'd', 'e', 'f', 'g', 'h', 'i', 'j']\n",
        "\n",
        "df = pd.DataFrame(exam_data, index=labels)\n",
        "\n",
        "df = df.drop(columns=['attempts'])\n",
        "\n",
        "print(\"Delete the 'attempts' column from the data frame:\\n\", df)\n"
      ],
      "metadata": {
        "id": "6YhM9w0qsjpQ",
        "colab": {
          "base_uri": "https://localhost:8080/"
        },
        "outputId": "dac590a6-93f2-44c1-a62f-549c99a12c7f"
      },
      "execution_count": null,
      "outputs": [
        {
          "output_type": "stream",
          "name": "stdout",
          "text": [
            "Delete the 'attempts' column from the data frame:\n",
            "         name  score qualify\n",
            "a  Anastasia   12.5     yes\n",
            "b       Dima    9.0      no\n",
            "c  Katherine   16.5     yes\n",
            "d      James    NaN      no\n",
            "e      Emily    9.0      no\n",
            "f    Michael   20.0     yes\n",
            "g    Matthew   14.5     yes\n",
            "h      Laura    NaN      no\n",
            "i      Kevin    8.0      no\n",
            "j      Jonas   19.0     yes\n"
          ]
        }
      ]
    },
    {
      "cell_type": "markdown",
      "source": [
        "##16.  Write a Pandas program to insert a new column in existing DataFrame.\n",
        "\n",
        "```\n",
        "Sample Python dictionary data and list labels:\n",
        "exam_data = {'name': ['Anastasia', 'Dima', 'Katherine', 'James', 'Emily', 'Michael', 'Matthew', 'Laura', 'Kevin', 'Jonas'],\n",
        "'score': [12.5, 9, 16.5, np.nan, 9, 20, 14.5, np.nan, 8, 19],\n",
        "'attempts': [1, 3, 2, 3, 2, 3, 1, 1, 2, 1],\n",
        "'qualify': ['yes', 'no', 'yes', 'no', 'no', 'yes', 'yes', 'no', 'no', 'yes']}\n",
        "labels = ['a', 'b', 'c', 'd', 'e', 'f', 'g', 'h', 'i', 'j']\n",
        "```\n",
        "```\n",
        "Expected Output:\n",
        "New DataFrame after inserting the 'color' column                       \n",
        "   attempts       name qualify  score   color                       \n",
        "a         1  Anastasia     yes   12.5     Red                         \n",
        "b         3       Dima      no    9.0    Blue                        \n",
        ".......                     \n",
        "i         2      Kevin      no    8.0   Green                        \n",
        "j         1      Jonas     yes   19.0     Red\n",
        "```"
      ],
      "metadata": {
        "id": "jMcYKDVqsxwV"
      }
    },
    {
      "cell_type": "code",
      "source": [
        "import pandas as pd\n",
        "import numpy as np\n",
        "\n",
        "exam_data = {\n",
        "    'name': ['Anastasia', 'Dima', 'Katherine', 'James', 'Emily', 'Michael', 'Matthew', 'Laura', 'Kevin', 'Jonas'],\n",
        "    'score': [12.5, 9, 16.5, np.nan, 9, 20, 14.5, np.nan, 8, 19],\n",
        "    'attempts': [1, 3, 2, 3, 2, 3, 1, 1, 2, 1],\n",
        "    'qualify': ['yes', 'no', 'yes', 'no', 'no', 'yes', 'yes', 'no', 'no', 'yes']\n",
        "}\n",
        "labels = ['a', 'b', 'c', 'd', 'e', 'f', 'g', 'h', 'i', 'j']\n",
        "\n",
        "df = pd.DataFrame(exam_data, index=labels)\n",
        "\n",
        "def assign_color(score):\n",
        "    if score >= 15:\n",
        "        return 'Red'\n",
        "    elif score >= 10:\n",
        "        return 'Blue'\n",
        "    else:\n",
        "        return 'Green'\n",
        "\n",
        "df['color'] = df['score'].apply(assign_color)\n",
        "\n",
        "print(\"New DataFrame after inserting the 'color' column:\")\n",
        "print(df)\n"
      ],
      "metadata": {
        "id": "gVRGJuO0s2gS",
        "colab": {
          "base_uri": "https://localhost:8080/"
        },
        "outputId": "7c119ee3-8546-46e6-f468-fc73912aad96"
      },
      "execution_count": null,
      "outputs": [
        {
          "output_type": "stream",
          "name": "stdout",
          "text": [
            "New DataFrame after inserting the 'color' column:\n",
            "        name  score  attempts qualify  color\n",
            "a  Anastasia   12.5         1     yes   Blue\n",
            "b       Dima    9.0         3      no  Green\n",
            "c  Katherine   16.5         2     yes    Red\n",
            "d      James    NaN         3      no  Green\n",
            "e      Emily    9.0         2      no  Green\n",
            "f    Michael   20.0         3     yes    Red\n",
            "g    Matthew   14.5         1     yes   Blue\n",
            "h      Laura    NaN         1      no  Green\n",
            "i      Kevin    8.0         2      no  Green\n",
            "j      Jonas   19.0         1     yes    Red\n"
          ]
        }
      ]
    },
    {
      "cell_type": "markdown",
      "source": [
        "##17.  Write a Pandas program to rename columns of a given DataFrame\n",
        "\n",
        "```\n",
        "Sample data:\n",
        "Original DataFrame\n",
        "   col1  col2  col3\n",
        "0     1     4     7\n",
        "1     2     5     8\n",
        "2     3     6     9\n",
        "New DataFrame after renaming columns:\n",
        "   Column1  Column2  Column3\n",
        "0        1        4        7\n",
        "1        2        5        8\n",
        "2        3        6        9\n",
        "```"
      ],
      "metadata": {
        "id": "hfw-zYXNs8P2"
      }
    },
    {
      "cell_type": "code",
      "source": [
        "import pandas as pd\n",
        "\n",
        "data = {\n",
        "    'col1': [1, 2, 3],\n",
        "    'col2': [4, 5, 6],\n",
        "    'col3': [7, 8, 9]\n",
        "}\n",
        "\n",
        "df = pd.DataFrame(data)\n",
        "\n",
        "print(\"Original DataFrame:\")\n",
        "print(df)\n",
        "\n",
        "df = df.rename(columns={'col1': 'Column1', 'col2': 'Column2', 'col3': 'Column3'})\n",
        "\n",
        "print(\"\\nNew DataFrame after renaming columns:\")\n",
        "print(df)\n"
      ],
      "metadata": {
        "id": "Mddzpu09s_EU",
        "colab": {
          "base_uri": "https://localhost:8080/"
        },
        "outputId": "ee87fc6a-c258-40fe-d1e2-8077d4f8b903"
      },
      "execution_count": null,
      "outputs": [
        {
          "output_type": "stream",
          "name": "stdout",
          "text": [
            "Original DataFrame:\n",
            "   col1  col2  col3\n",
            "0     1     4     7\n",
            "1     2     5     8\n",
            "2     3     6     9\n",
            "\n",
            "New DataFrame after renaming columns:\n",
            "   Column1  Column2  Column3\n",
            "0        1        4        7\n",
            "1        2        5        8\n",
            "2        3        6        9\n"
          ]
        }
      ]
    },
    {
      "cell_type": "markdown",
      "source": [
        "##18. Write a Pandas program to select rows from a given DataFrame based on values in some columns.\n",
        "```\n",
        "Sample data:\n",
        "Original DataFrame\n",
        "   col1  col2  col3\n",
        "0     1     4     7\n",
        "1     4     5     8\n",
        "2     3     6     9\n",
        "3     4     7     0\n",
        "4     5     8     1\n",
        "Rows for colum1 value == 4\n",
        "   col1  col2  col3\n",
        "1     4     5     8\n",
        "3     4     7     0\n",
        "```"
      ],
      "metadata": {
        "id": "ohV2QQQgtCg4"
      }
    },
    {
      "cell_type": "code",
      "source": [
        "import pandas as pd\n",
        "\n",
        "data = {\n",
        "    'col1': [1, 4, 3, 4, 5],\n",
        "    'col2': [4, 5, 6, 7, 8],\n",
        "    'col3': [7, 8, 9, 0, 1]\n",
        "}\n",
        "\n",
        "# Create DataFrame\n",
        "df = pd.DataFrame(data)\n",
        "\n",
        "# Print original DataFrame\n",
        "print(\"Original DataFrame:\")\n",
        "print(df)\n",
        "\n",
        "# Select rows where col1 value is 4\n",
        "filtered_df = df[df['col1'] == 4]\n",
        "\n",
        "# Print rows for col1 value == 4\n",
        "print(\"\\nRows for col1 value == 4:\")\n",
        "print(filtered_df)\n"
      ],
      "metadata": {
        "id": "yQ3wBxhztFUi",
        "colab": {
          "base_uri": "https://localhost:8080/"
        },
        "outputId": "a9be4f54-9024-4796-dd01-998e64b1bea8"
      },
      "execution_count": null,
      "outputs": [
        {
          "output_type": "stream",
          "name": "stdout",
          "text": [
            "Original DataFrame:\n",
            "   col1  col2  col3\n",
            "0     1     4     7\n",
            "1     4     5     8\n",
            "2     3     6     9\n",
            "3     4     7     0\n",
            "4     5     8     1\n",
            "\n",
            "Rows for col1 value == 4:\n",
            "   col1  col2  col3\n",
            "1     4     5     8\n",
            "3     4     7     0\n"
          ]
        }
      ]
    },
    {
      "cell_type": "markdown",
      "source": [
        "##19. Write a Pandas program to add one row in an existing DataFrame.\n",
        "\n",
        "```\n",
        "Sample data:\n",
        "Original DataFrame\n",
        "   col1  col2  col3\n",
        "0     1     4     7\n",
        "1     4     5     8\n",
        "2     3     6     9\n",
        "3     4     7     0\n",
        "4     5     8     1\n",
        "After add one row:\n",
        "   col1  col2  col3\n",
        "0     1     4     7\n",
        "1     4     5     8\n",
        "2     3     6     9\n",
        "3     4     7     0\n",
        "4     5     8     1\n",
        "5    10    11    12\n",
        "```"
      ],
      "metadata": {
        "id": "TWHWrlCVtOCr"
      }
    },
    {
      "cell_type": "code",
      "source": [
        "import pandas as pd\n",
        "\n",
        "data = {\n",
        "    'col1': [1, 4, 3, 4, 5],\n",
        "    'col2': [4, 5, 6, 7, 8],\n",
        "    'col3': [7, 8, 9, 0, 1]\n",
        "}\n",
        "\n",
        "df = pd.DataFrame(data)\n",
        "\n",
        "print(\"Original DataFrame:\")\n",
        "print(df)\n",
        "\n",
        "df.loc[5] = [10, 11, 12]\n",
        "\n",
        "print(\"\\nAfter adding one row:\")\n",
        "print(df)\n"
      ],
      "metadata": {
        "id": "psVnuNJvtQ8d",
        "colab": {
          "base_uri": "https://localhost:8080/"
        },
        "outputId": "3937864f-90c9-4d18-c5c1-7be8dc654cad"
      },
      "execution_count": null,
      "outputs": [
        {
          "output_type": "stream",
          "name": "stdout",
          "text": [
            "Original DataFrame:\n",
            "   col1  col2  col3\n",
            "0     1     4     7\n",
            "1     4     5     8\n",
            "2     3     6     9\n",
            "3     4     7     0\n",
            "4     5     8     1\n",
            "\n",
            "After adding one row:\n",
            "   col1  col2  col3\n",
            "0     1     4     7\n",
            "1     4     5     8\n",
            "2     3     6     9\n",
            "3     4     7     0\n",
            "4     5     8     1\n",
            "5    10    11    12\n"
          ]
        }
      ]
    },
    {
      "cell_type": "markdown",
      "source": [
        "##20. Write a Pandas program to replace all the NaN values with Zero's in a column of a dataframe.\n",
        "\n",
        "```\n",
        "Sample data:\n",
        "Original DataFrame\n",
        "\n",
        "   attempts       name qualify  score\n",
        "0         1  Anastasia     yes   12.5\n",
        "1         3       Dima      no    9.0\n",
        "2         2  Katherine     yes   16.5\n",
        ".....\n",
        "8         2      Kevin      no    8.0\n",
        "9         1      Jonas     yes   19.0\n",
        "\n",
        "```\n",
        "```\n",
        "\n",
        "New DataFrame replacing all NaN with 0:\n",
        "   attempts       name qualify  score\n",
        "0         1  Anastasia     yes   12.5\n",
        "1         3       Dima      no    9.0\n",
        "2         2  Katherine     yes   16.5\n",
        ".....\n",
        "8         2      Kevin      no    8.0\n",
        "9         1      Jonas     yes   19.0\n",
        "```"
      ],
      "metadata": {
        "id": "5UFVkEYMteus"
      }
    },
    {
      "cell_type": "code",
      "source": [
        "import pandas as pd\n",
        "import numpy as np\n",
        "\n",
        "data = {\n",
        "    'attempts': [1, 3, 2, np.nan, 2, 3, 1, 1, 2, 1],\n",
        "    'name': ['Anastasia', 'Dima', 'Katherine', 'James', 'Emily', 'Michael', 'Matthew', 'Laura', 'Kevin', 'Jonas'],\n",
        "    'qualify': ['yes', 'no', 'yes', 'no', 'no', 'yes', 'yes', 'no', 'no', 'yes'],\n",
        "    'score': [12.5, 9.0, 16.5, np.nan, 9.0, 20.0, 14.5, np.nan, 8.0, 19.0]\n",
        "}\n",
        "\n",
        "df = pd.DataFrame(data)\n",
        "\n",
        "print(\"Original DataFrame:\")\n",
        "print(df)\n",
        "\n",
        "df['score'] = df['score'].fillna(0)\n",
        "\n",
        "print(\"\\nNew DataFrame replacing all NaN with 0:\")\n",
        "print(df)\n"
      ],
      "metadata": {
        "id": "GII1oSuNtjX7",
        "colab": {
          "base_uri": "https://localhost:8080/"
        },
        "outputId": "294decbe-8060-4f5c-8eee-f096e184a5f2"
      },
      "execution_count": null,
      "outputs": [
        {
          "output_type": "stream",
          "name": "stdout",
          "text": [
            "Original DataFrame:\n",
            "   attempts       name qualify  score\n",
            "0       1.0  Anastasia     yes   12.5\n",
            "1       3.0       Dima      no    9.0\n",
            "2       2.0  Katherine     yes   16.5\n",
            "3       NaN      James      no    NaN\n",
            "4       2.0      Emily      no    9.0\n",
            "5       3.0    Michael     yes   20.0\n",
            "6       1.0    Matthew     yes   14.5\n",
            "7       1.0      Laura      no    NaN\n",
            "8       2.0      Kevin      no    8.0\n",
            "9       1.0      Jonas     yes   19.0\n",
            "\n",
            "New DataFrame replacing all NaN with 0:\n",
            "   attempts       name qualify  score\n",
            "0       1.0  Anastasia     yes   12.5\n",
            "1       3.0       Dima      no    9.0\n",
            "2       2.0  Katherine     yes   16.5\n",
            "3       NaN      James      no    0.0\n",
            "4       2.0      Emily      no    9.0\n",
            "5       3.0    Michael     yes   20.0\n",
            "6       1.0    Matthew     yes   14.5\n",
            "7       1.0      Laura      no    0.0\n",
            "8       2.0      Kevin      no    8.0\n",
            "9       1.0      Jonas     yes   19.0\n"
          ]
        }
      ]
    },
    {
      "cell_type": "markdown",
      "source": [
        "##21. Write a Pandas program to count the NaN values in one or more columns in DataFrame.\n",
        "```\n",
        "Sample data:\n",
        "Original DataFrame\n",
        "   attempts       name qualify  score\n",
        "0         1  Anastasia     yes   12.5\n",
        "1         3       Dima      no    9.0\n",
        "2         2  Katherine     yes   16.5\n",
        "3         3      James      no    NaN\n",
        "4         2      Emily      no    9.0\n",
        "5         3    Michael     yes   20.0\n",
        "6         1    Matthew     yes   14.5\n",
        "7         1      Laura      no    NaN\n",
        "8         2      Kevin      no    8.0\n",
        "9         1      Jonas     yes   19.0\n",
        "\n",
        "Number of NaN values in one or more columns:\n",
        "2\n",
        "\n",
        "```"
      ],
      "metadata": {
        "id": "i8CfYSH_tp71"
      }
    },
    {
      "cell_type": "code",
      "source": [
        "import pandas as pd\n",
        "import numpy as np\n",
        "\n",
        "data = {\n",
        "    'attempts': [1, 3, 2, 3, 2, 3, 1, 1, 2, 1],\n",
        "    'name': ['Anastasia', 'Dima', 'Katherine', 'James', 'Emily', 'Michael', 'Matthew', 'Laura', 'Kevin', 'Jonas'],\n",
        "    'qualify': ['yes', 'no', 'yes', 'no', 'no', 'yes', 'yes', 'no', 'no', 'yes'],\n",
        "    'score': [12.5, 9.0, 16.5, np.nan, 9.0, 20.0, 14.5, np.nan, 8.0, 19.0]\n",
        "}\n",
        "\n",
        "df = pd.DataFrame(data)\n",
        "\n",
        "print(\"Original DataFrame:\")\n",
        "print(df)\n",
        "\n",
        "nan_count = df['score'].isna().sum()\n",
        "\n",
        "print(\"\\nNumber of NaN values in one or more columns:\", nan_count)\n"
      ],
      "metadata": {
        "id": "TBmRXqHAttfw",
        "colab": {
          "base_uri": "https://localhost:8080/"
        },
        "outputId": "5bec0269-c6cb-48f8-b947-82b395a35003"
      },
      "execution_count": null,
      "outputs": [
        {
          "output_type": "stream",
          "name": "stdout",
          "text": [
            "Original DataFrame:\n",
            "   attempts       name qualify  score\n",
            "0         1  Anastasia     yes   12.5\n",
            "1         3       Dima      no    9.0\n",
            "2         2  Katherine     yes   16.5\n",
            "3         3      James      no    NaN\n",
            "4         2      Emily      no    9.0\n",
            "5         3    Michael     yes   20.0\n",
            "6         1    Matthew     yes   14.5\n",
            "7         1      Laura      no    NaN\n",
            "8         2      Kevin      no    8.0\n",
            "9         1      Jonas     yes   19.0\n",
            "\n",
            "Number of NaN values in one or more columns: 2\n"
          ]
        }
      ]
    },
    {
      "cell_type": "markdown",
      "source": [
        "##22. Write a Pandas program to drop a list of rows from a specified DataFrame.\n",
        "```\n",
        "Sample data:\n",
        "Original DataFrame\n",
        "   col1  col2  col3\n",
        "0     1     4     7\n",
        "1     4     5     8\n",
        "2     3     6     9\n",
        "3     4     7     0\n",
        "4     5     8     1\n",
        "\n",
        "\n",
        "New DataFrame after removing 2nd & 4th rows:\n",
        "   col1  col2  col3\n",
        "0     1     4     7\n",
        "1     4     5     8\n",
        "3     4     7     0\n",
        "```"
      ],
      "metadata": {
        "id": "Rg1rIYUftyLY"
      }
    },
    {
      "cell_type": "code",
      "source": [
        "import pandas as pd\n",
        "\n",
        "data = {\n",
        "    'col1': [1, 4, 3, 4, 5],\n",
        "    'col2': [4, 5, 6, 7, 8],\n",
        "    'col3': [7, 8, 9, 0, 1]\n",
        "}\n",
        "\n",
        "df = pd.DataFrame(data)\n",
        "\n",
        "print(\"Original DataFrame:\")\n",
        "print(df)\n",
        "\n",
        "rows_to_remove = [2, 4]\n",
        "\n",
        "new_df = df.drop(rows_to_remove)\n",
        "\n",
        "print(\"\\nNew DataFrame after removing 2nd & 4th rows:\")\n",
        "print(new_df)\n"
      ],
      "metadata": {
        "id": "zKC7OCAXt1rB",
        "colab": {
          "base_uri": "https://localhost:8080/"
        },
        "outputId": "114ee76e-1b7b-4113-de86-76ed634b0d38"
      },
      "execution_count": null,
      "outputs": [
        {
          "output_type": "stream",
          "name": "stdout",
          "text": [
            "Original DataFrame:\n",
            "   col1  col2  col3\n",
            "0     1     4     7\n",
            "1     4     5     8\n",
            "2     3     6     9\n",
            "3     4     7     0\n",
            "4     5     8     1\n",
            "\n",
            "New DataFrame after removing 2nd & 4th rows:\n",
            "   col1  col2  col3\n",
            "0     1     4     7\n",
            "1     4     5     8\n",
            "3     4     7     0\n"
          ]
        }
      ]
    },
    {
      "cell_type": "markdown",
      "source": [
        "##23. . Write a Pandas program to convert DataFrame column type from string to datetime.\n",
        "\n",
        "```\n",
        "\n",
        "Sample data:\n",
        "String Date:\n",
        "0    3/11/2000\n",
        "1    3/12/2000\n",
        "2    3/13/2000\n",
        "dtype: object\n",
        "\n",
        "\n",
        "Original DataFrame (string to datetime):\n",
        "           0\n",
        "0 2000-03-11\n",
        "1 2000-03-12\n",
        "2 2000-03-13\n",
        "```"
      ],
      "metadata": {
        "id": "jZ1dWICquCd5"
      }
    },
    {
      "cell_type": "code",
      "source": [
        "import pandas as pd\n",
        "string_dates = pd.Series(['3/11/2000', '3/12/2000', '3/13/2000'])\n",
        "\n",
        "print(\"String Date:\")\n",
        "print(string_dates)\n",
        "\n",
        "datetime_dates = pd.to_datetime(string_dates)\n",
        "\n",
        "df = pd.DataFrame(datetime_dates)\n",
        "\n",
        "print(\"\\nOriginal DataFrame (string to datetime):\")\n",
        "print(df)\n"
      ],
      "metadata": {
        "id": "UkAHlL6vuGvG",
        "colab": {
          "base_uri": "https://localhost:8080/"
        },
        "outputId": "1c13fbaf-3139-4f1b-f7ca-8c9b506fc44d"
      },
      "execution_count": null,
      "outputs": [
        {
          "output_type": "stream",
          "name": "stdout",
          "text": [
            "String Date:\n",
            "0    3/11/2000\n",
            "1    3/12/2000\n",
            "2    3/13/2000\n",
            "dtype: object\n",
            "\n",
            "Original DataFrame (string to datetime):\n",
            "           0\n",
            "0 2000-03-11\n",
            "1 2000-03-12\n",
            "2 2000-03-13\n"
          ]
        }
      ]
    },
    {
      "cell_type": "markdown",
      "source": [
        "##24. Write a Pandas program to find the row for where the value of a given column is maximum.\n",
        "\n",
        "```\n",
        "Sample Output:\n",
        "Original DataFrame\n",
        "   col1  col2  col3\n",
        "0     1     4     7\n",
        "1     2     5     8\n",
        "2     3     6    12\n",
        "3     4     9     1\n",
        "4     7     5    11\n",
        "Row where col1 has maximum value:\n",
        "4\n",
        "Row where col2 has maximum value:\n",
        "3\n",
        "Row where col3 has maximum value:\n",
        "2\n",
        "```"
      ],
      "metadata": {
        "id": "1WjOTutIuNFr"
      }
    },
    {
      "cell_type": "code",
      "source": [
        "import pandas as pd\n",
        "\n",
        "data = {\n",
        "    'col1': [1, 2, 3, 4, 7],\n",
        "    'col2': [4, 5, 6, 9, 5],\n",
        "    'col3': [7, 8, 12, 1, 11]\n",
        "}\n",
        "\n",
        "df = pd.DataFrame(data)\n",
        "\n",
        "print(\"Original DataFrame:\")\n",
        "print(df)\n",
        "\n",
        "max_row_col1 = df['col1'].idxmax()\n",
        "\n",
        "max_row_col2 = df['col2'].idxmax()\n",
        "\n",
        "max_row_col3 = df['col3'].idxmax()\n",
        "\n",
        "print(\"\\nRow where col1 has maximum value:\")\n",
        "print(max_row_col1)\n",
        "print(\"\\nRow where col2 has maximum value:\")\n",
        "print(max_row_col2)\n",
        "print(\"\\nRow where col3 has maximum value:\")\n",
        "print(max_row_col3)\n"
      ],
      "metadata": {
        "id": "arfeSzUDuPPx",
        "colab": {
          "base_uri": "https://localhost:8080/"
        },
        "outputId": "41598973-c42e-44dd-f595-06b49438708e"
      },
      "execution_count": null,
      "outputs": [
        {
          "output_type": "stream",
          "name": "stdout",
          "text": [
            "Original DataFrame:\n",
            "   col1  col2  col3\n",
            "0     1     4     7\n",
            "1     2     5     8\n",
            "2     3     6    12\n",
            "3     4     9     1\n",
            "4     7     5    11\n",
            "\n",
            "Row where col1 has maximum value:\n",
            "4\n",
            "\n",
            "Row where col2 has maximum value:\n",
            "3\n",
            "\n",
            "Row where col3 has maximum value:\n",
            "2\n"
          ]
        }
      ]
    },
    {
      "cell_type": "markdown",
      "source": [
        "##25. Write a Pandas program to get the datatypes of columns of a DataFrame.\n",
        "\n",
        "```\n",
        "Sample data:\n",
        "Original DataFrame:\n",
        "   attempts       name qualify  score\n",
        "0         1  Anastasia     yes   12.5\n",
        "1         3       Dima      no    9.0\n",
        ".......\n",
        "8         2      Kevin      no    8.0\n",
        "9         1      Jonas     yes   19.0\n",
        "Data types of the columns of the said DataFrame:\n",
        "attempts      int64\n",
        "name         object\n",
        "qualify      object\n",
        "score       float64\n",
        "dtype: object\n",
        "```"
      ],
      "metadata": {
        "id": "aoGo3biQuUyd"
      }
    },
    {
      "cell_type": "code",
      "source": [
        "import pandas as pd\n",
        "\n",
        "data = {\n",
        "    'attempts': [1, 3, 2, 3, 2, 3, 1, 1, 2, 1],\n",
        "    'name': ['Anastasia', 'Dima', 'Katherine', 'James', 'Emily', 'Michael', 'Matthew', 'Laura', 'Kevin', 'Jonas'],\n",
        "    'qualify': ['yes', 'no', 'yes', 'no', 'no', 'yes', 'yes', 'no', 'no', 'yes'],\n",
        "    'score': [12.5, 9.0, 16.5, 9.0, 9.0, 20.0, 14.5, 8.0, 8.0, 19.0]\n",
        "}\n",
        "\n",
        "df = pd.DataFrame(data)\n",
        "\n",
        "print(\"Original DataFrame:\")\n",
        "print(df)\n",
        "\n",
        "data_types = df.dtypes\n",
        "\n",
        "print(\"\\nData types of the columns of the said DataFrame:\")\n",
        "print(data_types)\n"
      ],
      "metadata": {
        "id": "FCy0tW-JuXIn",
        "colab": {
          "base_uri": "https://localhost:8080/"
        },
        "outputId": "8329b969-429a-4a6d-b00c-dae1e3b92e6b"
      },
      "execution_count": null,
      "outputs": [
        {
          "output_type": "stream",
          "name": "stdout",
          "text": [
            "Original DataFrame:\n",
            "   attempts       name qualify  score\n",
            "0         1  Anastasia     yes   12.5\n",
            "1         3       Dima      no    9.0\n",
            "2         2  Katherine     yes   16.5\n",
            "3         3      James      no    9.0\n",
            "4         2      Emily      no    9.0\n",
            "5         3    Michael     yes   20.0\n",
            "6         1    Matthew     yes   14.5\n",
            "7         1      Laura      no    8.0\n",
            "8         2      Kevin      no    8.0\n",
            "9         1      Jonas     yes   19.0\n",
            "\n",
            "Data types of the columns of the said DataFrame:\n",
            "attempts      int64\n",
            "name         object\n",
            "qualify      object\n",
            "score       float64\n",
            "dtype: object\n"
          ]
        }
      ]
    },
    {
      "cell_type": "markdown",
      "source": [
        "##26. Write a Pandas program to group by the first column and get second column as lists in rows.\n",
        "\n",
        "```\n",
        "Sample data:\n",
        "Original DataFrame\n",
        "col1 col2\n",
        "0 C1 1\n",
        "1 C1 2\n",
        "2 C2 3\n",
        "3 C2 3\n",
        "4 C2 4\n",
        "5 C3 6\n",
        "6 C2 5\n",
        "\n",
        "\n",
        "Group on the col1:\n",
        "col1\n",
        "C1 [1, 2]\n",
        "C2 [3, 3, 4, 5]\n",
        "C3 [6]\n",
        "Name: col2, dtype: object\n",
        "```"
      ],
      "metadata": {
        "id": "KBMjpEeOue8v"
      }
    },
    {
      "cell_type": "code",
      "source": [
        "import pandas as pd\n",
        "\n",
        "data = {\n",
        "    'col1': ['C1', 'C1', 'C2', 'C2', 'C2', 'C3', 'C2'],\n",
        "    'col2': [1, 2, 3, 3, 4, 6, 5]\n",
        "}\n",
        "\n",
        "df = pd.DataFrame(data)\n",
        "\n",
        "print(\"Original DataFrame:\")\n",
        "print(df)\n",
        "\n",
        "grouped = df.groupby('col1')['col2'].apply(list)\n",
        "\n",
        "print(\"\\nGroup on the col1:\")\n",
        "print(grouped)\n"
      ],
      "metadata": {
        "id": "sgka6sYjuiuS",
        "colab": {
          "base_uri": "https://localhost:8080/"
        },
        "outputId": "f12050a5-26d1-476c-a3e4-980bc3c3f5a4"
      },
      "execution_count": null,
      "outputs": [
        {
          "output_type": "stream",
          "name": "stdout",
          "text": [
            "Original DataFrame:\n",
            "  col1  col2\n",
            "0   C1     1\n",
            "1   C1     2\n",
            "2   C2     3\n",
            "3   C2     3\n",
            "4   C2     4\n",
            "5   C3     6\n",
            "6   C2     5\n",
            "\n",
            "Group on the col1:\n",
            "col1\n",
            "C1          [1, 2]\n",
            "C2    [3, 3, 4, 5]\n",
            "C3             [6]\n",
            "Name: col2, dtype: object\n"
          ]
        }
      ]
    },
    {
      "cell_type": "markdown",
      "source": [
        "##27  Write a Pandas program to count number of columns of a DataFrame.\n",
        "\n",
        "```\n",
        "Sample Output:\n",
        "Original DataFrame\n",
        "  col1 col2 col3\n",
        "0  1    4   7\n",
        "1  2    5   8\n",
        "2  3    6   12\n",
        "3  4    9   1\n",
        "4  7    5   11\n",
        "\n",
        "Number of columns:\n",
        "3\n",
        "```"
      ],
      "metadata": {
        "id": "40Z4J_oMurA8"
      }
    },
    {
      "cell_type": "code",
      "source": [
        "import pandas as pd\n",
        "\n",
        "data = {\n",
        "    'col1': [1, 2, 3, 4, 7],\n",
        "    'col2': [4, 5, 6, 9, 5],\n",
        "    'col3': [7, 8, 12, 1, 11]\n",
        "}\n",
        "\n",
        "df = pd.DataFrame(data)\n",
        "\n",
        "print(\"Original DataFrame:\")\n",
        "print(df)\n",
        "\n",
        "num_columns = df.shape[1]\n",
        "\n",
        "print(\"\\nNumber of columns:\", num_columns)\n"
      ],
      "metadata": {
        "id": "lOUFqUeHuvLp",
        "colab": {
          "base_uri": "https://localhost:8080/"
        },
        "outputId": "9dc0bee8-ace8-49df-acdd-bbd42b51317d"
      },
      "execution_count": null,
      "outputs": [
        {
          "output_type": "stream",
          "name": "stdout",
          "text": [
            "Original DataFrame:\n",
            "   col1  col2  col3\n",
            "0     1     4     7\n",
            "1     2     5     8\n",
            "2     3     6    12\n",
            "3     4     9     1\n",
            "4     7     5    11\n",
            "\n",
            "Number of columns: 3\n"
          ]
        }
      ]
    },
    {
      "cell_type": "markdown",
      "source": [
        "##28.  Write a Pandas program to get first n records of a DataFrame.\n",
        "\n",
        "```\n",
        "Sample Output:\n",
        "Original DataFrame\n",
        "col1 col2 col3\n",
        "0 1 4 7\n",
        "1 2 5 5\n",
        "2 3 6 8\n",
        "3 4 9 12\n",
        "4 7 5 1\n",
        "5 11 0 11\n",
        "\n",
        "First 3 rows of the said DataFrame':\n",
        "col1 col2 col3\n",
        "0 1 4 7\n",
        "1 2 5 5\n",
        "2 3 6 8\n",
        "```\n"
      ],
      "metadata": {
        "id": "0ubM3981vg4v"
      }
    },
    {
      "cell_type": "code",
      "source": [
        "import pandas as pd\n",
        "\n",
        "data = {'col1': [1, 2, 3, 4, 7, 11],\n",
        "        'col2': [4, 5, 6, 9, 5, 0],\n",
        "        'col3': [7, 5, 8, 12, 1, 11]}\n",
        "\n",
        "df = pd.DataFrame(data)\n",
        "\n",
        "print(\"Original DataFrame:\")\n",
        "print(df)\n",
        "\n",
        "n = 3\n",
        "\n",
        "print(f\"\\nFirst {n} rows of the said DataFrame:\")\n",
        "print(df.head(n))\n"
      ],
      "metadata": {
        "id": "tF2RrjuWvkU3",
        "colab": {
          "base_uri": "https://localhost:8080/"
        },
        "outputId": "b863007a-ff08-4994-c5d5-0ef86496883a"
      },
      "execution_count": null,
      "outputs": [
        {
          "output_type": "stream",
          "name": "stdout",
          "text": [
            "Original DataFrame:\n",
            "   col1  col2  col3\n",
            "0     1     4     7\n",
            "1     2     5     5\n",
            "2     3     6     8\n",
            "3     4     9    12\n",
            "4     7     5     1\n",
            "5    11     0    11\n",
            "\n",
            "First 3 rows of the said DataFrame:\n",
            "   col1  col2  col3\n",
            "0     1     4     7\n",
            "1     2     5     5\n",
            "2     3     6     8\n"
          ]
        }
      ]
    },
    {
      "cell_type": "markdown",
      "source": [
        "\n",
        "##29. Write a Pandas program to get last n records of a DataFrame.\n",
        "\n",
        "```\n",
        "Sample Output:\n",
        "Original DataFrame\n",
        "col1 col2 col3\n",
        "0 1 4 7\n",
        "1 2 5 5\n",
        "2 3 6 8\n",
        "3 4 9 12\n",
        "4 7 5 1\n",
        "5 11 0 11\n",
        "\n",
        "Last 3 rows of the said DataFrame':\n",
        "col1 col2 col3\n",
        "3 4 9 12\n",
        "4 7 5 1\n",
        "5 11 0 11\n",
        "```"
      ],
      "metadata": {
        "id": "HYe8IeZcvnBM"
      }
    },
    {
      "cell_type": "code",
      "source": [
        "import pandas as pd\n",
        "\n",
        "data = {'col1': [1, 2, 3, 4, 7, 11],\n",
        "        'col2': [4, 5, 6, 9, 5, 0],\n",
        "        'col3': [7, 5, 8, 12, 1, 11]}\n",
        "\n",
        "df = pd.DataFrame(data)\n",
        "\n",
        "print(\"Original DataFrame:\")\n",
        "print(df)\n",
        "\n",
        "n = 3\n",
        "\n",
        "print(f\"\\nLast {n} rows of the said DataFrame:\")\n",
        "print(df.tail(n))\n"
      ],
      "metadata": {
        "id": "uF1krIWivqOZ",
        "colab": {
          "base_uri": "https://localhost:8080/"
        },
        "outputId": "4b294429-d54c-48ec-eed9-6eb1a9b35d57"
      },
      "execution_count": null,
      "outputs": [
        {
          "output_type": "stream",
          "name": "stdout",
          "text": [
            "Original DataFrame:\n",
            "   col1  col2  col3\n",
            "0     1     4     7\n",
            "1     2     5     5\n",
            "2     3     6     8\n",
            "3     4     9    12\n",
            "4     7     5     1\n",
            "5    11     0    11\n",
            "\n",
            "Last 3 rows of the said DataFrame:\n",
            "   col1  col2  col3\n",
            "3     4     9    12\n",
            "4     7     5     1\n",
            "5    11     0    11\n"
          ]
        }
      ]
    },
    {
      "cell_type": "markdown",
      "source": [
        "##30.  Write a Pandas program to get topmost n records within each group of a DataFrame.\n",
        "\n",
        "```\n",
        "Sample Output:\n",
        "Original DataFrame\n",
        "col1 col2 col3\n",
        "0 1 4 7\n",
        "1 2 5 5\n",
        "2 3 6 8\n",
        "3 4 9 12\n",
        "4 7 5 1\n",
        "5 11 0 11\n",
        "\n",
        "```\n",
        "```\n",
        "topmost n records within each group of a DataFrame:\n",
        "col1 col2 col3\n",
        "5 11 0 11\n",
        "4 7 5 1\n",
        "3 4 9 12\n",
        "col1 col2 col3\n",
        "3 4 9 12\n",
        "2 3 6 8\n",
        "1 2 5 5\n",
        "4 7 5 1\n",
        "col1 col2 col3\n",
        "3 4 9 12\n",
        "5 11 0 11\n",
        "2 3 6 8\n",
        "```"
      ],
      "metadata": {
        "id": "EqqWIAyEvvvQ"
      }
    },
    {
      "cell_type": "code",
      "source": [
        "import pandas as pd\n",
        "\n",
        "# Sample DataFrame\n",
        "data = {'col1': [1, 2, 3, 4, 7, 11],\n",
        "        'col2': [4, 5, 6, 9, 5, 0],\n",
        "        'col3': [7, 5, 8, 12, 1, 11]}\n",
        "\n",
        "df = pd.DataFrame(data)\n",
        "\n",
        "print(\"Original DataFrame:\")\n",
        "print(df)\n",
        "\n",
        "n = 3  # Number of topmost records within each group to display\n",
        "\n",
        "print(\"\\ntopmost n records within each group of a DataFrame:\")\n",
        "for _, group_df in df.groupby(df.index // n):\n",
        "    print(group_df)\n"
      ],
      "metadata": {
        "id": "FhFjzbvivzr8",
        "colab": {
          "base_uri": "https://localhost:8080/"
        },
        "outputId": "973a2bcb-27b6-4f64-872a-0ec9b0432ac4"
      },
      "execution_count": null,
      "outputs": [
        {
          "output_type": "stream",
          "name": "stdout",
          "text": [
            "Original DataFrame:\n",
            "   col1  col2  col3\n",
            "0     1     4     7\n",
            "1     2     5     5\n",
            "2     3     6     8\n",
            "3     4     9    12\n",
            "4     7     5     1\n",
            "5    11     0    11\n",
            "\n",
            "topmost n records within each group of a DataFrame:\n",
            "   col1  col2  col3\n",
            "0     1     4     7\n",
            "1     2     5     5\n",
            "2     3     6     8\n",
            "   col1  col2  col3\n",
            "3     4     9    12\n",
            "4     7     5     1\n",
            "5    11     0    11\n"
          ]
        }
      ]
    },
    {
      "cell_type": "markdown",
      "source": [
        "##30.  Write a Pandas program to get topmost n records within each group of a DataFrame.\n",
        "\n",
        "```\n",
        "Sample Output:\n",
        "Original DataFrame\n",
        "col1 col2 col3\n",
        "0 1 4 7\n",
        "1 2 5 5\n",
        "2 3 6 8\n",
        "3 4 9 12\n",
        "4 7 5 1\n",
        "5 11 0 11\n",
        "\n",
        "```\n",
        "```\n",
        "topmost n records within each group of a DataFrame:\n",
        "col1 col2 col3\n",
        "5 11 0 11\n",
        "4 7 5 1\n",
        "3 4 9 12\n",
        "col1 col2 col3\n",
        "3 4 9 12\n",
        "2 3 6 8\n",
        "1 2 5 5\n",
        "4 7 5 1\n",
        "col1 col2 col3\n",
        "3 4 9 12\n",
        "5 11 0 11\n",
        "2 3 6 8\n",
        "```"
      ],
      "metadata": {
        "id": "a6DTPQBQqsag"
      }
    },
    {
      "cell_type": "markdown",
      "source": [
        "##30.  Write a Pandas program to get topmost n records within each group of a DataFrame.\n",
        "\n",
        "```\n",
        "Sample Output:\n",
        "Original DataFrame\n",
        "col1 col2 col3\n",
        "0 1 4 7\n",
        "1 2 5 5\n",
        "2 3 6 8\n",
        "3 4 9 12\n",
        "4 7 5 1\n",
        "5 11 0 11\n",
        "\n",
        "```\n",
        "```\n",
        "topmost n records within each group of a DataFrame:\n",
        "col1 col2 col3\n",
        "5 11 0 11\n",
        "4 7 5 1\n",
        "3 4 9 12\n",
        "col1 col2 col3\n",
        "3 4 9 12\n",
        "2 3 6 8\n",
        "1 2 5 5\n",
        "4 7 5 1\n",
        "col1 col2 col3\n",
        "3 4 9 12\n",
        "5 11 0 11\n",
        "2 3 6 8\n",
        "```"
      ],
      "metadata": {
        "id": "RN1g3vNHqrlj"
      }
    },
    {
      "cell_type": "markdown",
      "source": [
        "##31. Write a Pandas program to add a prefix or suffix to all columns of a given DataFrame.\n",
        "\n",
        "```\n",
        "Sample Output:\n",
        "Original DataFrame\n",
        "W X Y Z\n",
        "0 68 78 84 86\n",
        "1 75 85 94 97\n",
        "2 86 96 89 96\n",
        "3 80 80 83 72\n",
        "4 66 86 86 83\n",
        "\n",
        "Add prefix:\n",
        "A_W A_X A_Y A_Z\n",
        "0 68 78 84 86\n",
        "1 75 85 94 97\n",
        "2 86 96 89 96\n",
        "3 80 80 83 72\n",
        "4 66 86 86 83\n",
        "\n",
        "Add suffix:\n",
        "W_1 X_1 Y_1 Z_1\n",
        "0 68 78 84 86\n",
        "1 75 85 94 97\n",
        "2 86 96 89 96\n",
        "3 80 80 83 72\n",
        "4 66 86 86 83\n",
        "\n",
        "```"
      ],
      "metadata": {
        "id": "cwpL5p29v-In"
      }
    },
    {
      "cell_type": "code",
      "source": [
        "import pandas as pd\n",
        "\n",
        "data = {'W': [68, 75, 86, 80, 66],\n",
        "        'X': [78, 85, 96, 80, 86],\n",
        "        'Y': [84, 94, 89, 83, 86],\n",
        "        'Z': [86, 97, 96, 72, 83]}\n",
        "df = pd.DataFrame(data)\n",
        "\n",
        "print(\"Original DataFrame:\")\n",
        "print(df)\n",
        "\n",
        "prefix = 'A_'\n",
        "df_prefix = df.add_prefix(prefix)\n",
        "print(\"\\nAdd prefix:\")\n",
        "print(df_prefix)\n",
        "\n",
        "suffix = '_1'\n",
        "df_suffix = df.add_suffix(suffix)\n",
        "print(\"\\nAdd suffix:\")\n",
        "print(df_suffix)\n"
      ],
      "metadata": {
        "id": "mNnAlSh4wBoU",
        "colab": {
          "base_uri": "https://localhost:8080/"
        },
        "outputId": "69c55ecf-57b4-4dd8-994e-e26a279265b2"
      },
      "execution_count": null,
      "outputs": [
        {
          "output_type": "stream",
          "name": "stdout",
          "text": [
            "Original DataFrame:\n",
            "    W   X   Y   Z\n",
            "0  68  78  84  86\n",
            "1  75  85  94  97\n",
            "2  86  96  89  96\n",
            "3  80  80  83  72\n",
            "4  66  86  86  83\n",
            "\n",
            "Add prefix:\n",
            "   A_W  A_X  A_Y  A_Z\n",
            "0   68   78   84   86\n",
            "1   75   85   94   97\n",
            "2   86   96   89   96\n",
            "3   80   80   83   72\n",
            "4   66   86   86   83\n",
            "\n",
            "Add suffix:\n",
            "   W_1  X_1  Y_1  Z_1\n",
            "0   68   78   84   86\n",
            "1   75   85   94   97\n",
            "2   86   96   89   96\n",
            "3   80   80   83   72\n",
            "4   66   86   86   83\n"
          ]
        }
      ]
    },
    {
      "cell_type": "markdown",
      "source": [
        "##32. Write a Pandas program to convert continuous values of a column in a given DataFrame to categorical.\n",
        "```\n",
        "Input:\n",
        "{ 'Name': ['Alberto Franco','Gino Mcneill','Ryan Parkes', 'Eesha Hinton', 'Syed Wharton'],\n",
        "'Age': [18, 22, 40, 50, 80, 5] }\n",
        "\n",
        "\n",
        "Output:\n",
        "Age group:\n",
        "0 kids\n",
        "1 adult\n",
        "2 elderly\n",
        "3 adult\n",
        "4 elderly\n",
        "5 kids\n",
        "Name: age_groups, dtype: category\n",
        "Categories (3, object): [kids < adult < elderly]\n",
        "```"
      ],
      "metadata": {
        "id": "GJA8ou51wLGk"
      }
    },
    {
      "cell_type": "code",
      "source": [
        "import pandas as pd\n",
        "\n",
        "data = {'Name': ['Alberto Franco', 'Gino Mcneill', 'Ryan Parkes', 'Eesha Hinton', 'Syed Wharton'],\n",
        "        'Age': [18, 22, 40, 50, 80]}\n",
        "\n",
        "df = pd.DataFrame(data)\n",
        "\n",
        "bins = [0, 18, 60, 100]\n",
        "labels = ['kids', 'adult', 'elderly']\n",
        "\n",
        "df['age_groups'] = pd.cut(df['Age'], bins=bins, labels=labels, right=False)\n",
        "\n",
        "print(\"Age group:\")\n",
        "print(df['age_groups'])\n"
      ],
      "metadata": {
        "id": "5MF2Dyw1wOK9",
        "colab": {
          "base_uri": "https://localhost:8080/"
        },
        "outputId": "5a0ca837-3994-4105-87e3-24b545c9797e"
      },
      "execution_count": null,
      "outputs": [
        {
          "output_type": "stream",
          "name": "stdout",
          "text": [
            "Age group:\n",
            "0      adult\n",
            "1      adult\n",
            "2      adult\n",
            "3      adult\n",
            "4    elderly\n",
            "Name: age_groups, dtype: category\n",
            "Categories (3, object): ['kids' < 'adult' < 'elderly']\n"
          ]
        }
      ]
    },
    {
      "cell_type": "markdown",
      "source": [
        "##33. Write a Pandas program to append rows to an existing DataFrame and display the combined data.\n",
        "\n",
        "```\n",
        "Test Data:\n",
        "tudent_data1\n",
        "  student_id              name  marks\n",
        "0         S1  Danniella Fenton    200\n",
        "1         S2      Ryder Storey    210\n",
        "2         S3      Bryce Jensen    190\n",
        "3         S4         Ed Bernal    222\n",
        "4         S5       Kwame Morin    199\n",
        "\n",
        "\n",
        "New Row(s)\n",
        "student_id                  S6\n",
        "name          Scarlette Fisher\n",
        "marks                      205\n",
        "dtype: object\n",
        "```"
      ],
      "metadata": {
        "id": "feAsVC_uwhOf"
      }
    },
    {
      "cell_type": "code",
      "source": [
        "import pandas as pd\n",
        "student_data1 = pd.DataFrame({\n",
        "        'student_id': ['S1', 'S2', 'S3', 'S4', 'S5'],\n",
        "         'name': ['Danniella Fenton', 'Ryder Storey', 'Bryce Jensen', 'Ed Bernal', 'Kwame Morin'],\n",
        "        'marks': [200, 210, 190, 222, 199]})\n",
        "\n",
        "s6 = pd.Series(['S6', 'Scarlette Fisher', 205], index=['student_id', 'name', 'marks'])\n",
        "print(\"Original DataFrames:\")\n",
        "print(student_data1)\n",
        "print(\"\\nNew Row(s)\")\n",
        "print(s6)\n",
        "combined_data = student_data1.append(s6, ignore_index = True)\n",
        "print(\"\\nCombined Data:\")\n",
        "print(combined_data)\n"
      ],
      "metadata": {
        "id": "mX4VNHcCwkY8",
        "colab": {
          "base_uri": "https://localhost:8080/"
        },
        "outputId": "2458f295-b618-487c-f0e5-a61aa54dc63a"
      },
      "execution_count": null,
      "outputs": [
        {
          "output_type": "stream",
          "name": "stdout",
          "text": [
            "Original DataFrames:\n",
            "  student_id              name  marks\n",
            "0         S1  Danniella Fenton    200\n",
            "1         S2      Ryder Storey    210\n",
            "2         S3      Bryce Jensen    190\n",
            "3         S4         Ed Bernal    222\n",
            "4         S5       Kwame Morin    199\n",
            "\n",
            "New Row(s)\n",
            "student_id                  S6\n",
            "name          Scarlette Fisher\n",
            "marks                      205\n",
            "dtype: object\n",
            "\n",
            "Combined Data:\n",
            "  student_id              name  marks\n",
            "0         S1  Danniella Fenton    200\n",
            "1         S2      Ryder Storey    210\n",
            "2         S3      Bryce Jensen    190\n",
            "3         S4         Ed Bernal    222\n",
            "4         S5       Kwame Morin    199\n",
            "5         S6  Scarlette Fisher    205\n"
          ]
        },
        {
          "output_type": "stream",
          "name": "stderr",
          "text": [
            "<ipython-input-21-e6444d55077f>:12: FutureWarning: The frame.append method is deprecated and will be removed from pandas in a future version. Use pandas.concat instead.\n",
            "  combined_data = student_data1.append(s6, ignore_index = True)\n"
          ]
        }
      ]
    },
    {
      "cell_type": "markdown",
      "source": [
        "##34  Write a Pandas program to join the two given dataframes along rows and merge with another dataframe along the common column id.\n",
        "\n",
        "```\n",
        "Test Data:\n",
        "student_data1:\n",
        "  student_id              name  marks\n",
        "0         S1  Danniella Fenton    200\n",
        "1         S2      Ryder Storey    210\n",
        "2         S3      Bryce Jensen    190\n",
        "3         S4         Ed Bernal    222\n",
        "4         S5       Kwame Morin    199\n",
        "student_data2:\n",
        "  student_id              name  marks\n",
        "0         S4  Scarlette Fisher    201\n",
        "1         S5  Carla Williamson    200\n",
        "2         S6       Dante Morse    198\n",
        "3         S7    Kaiser William    219\n",
        "4         S8   Madeeha Preston    201\n",
        "```\n",
        "```\n",
        "\n",
        "exam_data:\n",
        "   student_id  exam_id\n",
        "0          S1       23\n",
        "1          S2       45\n",
        "2          S3       12\n",
        "3          S4       67\n",
        "4          S5       21\n",
        "5          S7       55\n",
        "6          S8       33\n",
        "7          S9       14\n",
        "8         S10       56\n",
        "9         S11       83\n",
        "10        S12       88\n",
        "11        S13       12\n",
        "```\n"
      ],
      "metadata": {
        "id": "OGD7xDdTwuUF"
      }
    },
    {
      "cell_type": "code",
      "source": [
        "import pandas as pd\n",
        "\n",
        "student_data1 = {\n",
        "    'student_id': ['S1', 'S2', 'S3', 'S4', 'S5'],\n",
        "    'name': ['Danniella Fenton', 'Ryder Storey', 'Bryce Jensen', 'Ed Bernal', 'Kwame Morin'],\n",
        "    'marks': [200, 210, 190, 222, 199]\n",
        "}\n",
        "\n",
        "student_data2 = {\n",
        "    'student_id': ['S4', 'S5', 'S6', 'S7', 'S8'],\n",
        "    'name': ['Scarlette Fisher', 'Carla Williamson', 'Dante Morse', 'Kaiser William', 'Madeeha Preston'],\n",
        "    'marks': [201, 200, 198, 219, 201]\n",
        "}\n",
        "\n",
        "exam_data = {\n",
        "    'student_id': ['S1', 'S2', 'S3', 'S4', 'S5', 'S7', 'S8', 'S9', 'S10', 'S11', 'S12', 'S13'],\n",
        "    'exam_id': [23, 45, 12, 67, 21, 55, 33, 14, 56, 83, 88, 12]\n",
        "}\n",
        "\n",
        "df1 = pd.DataFrame(student_data1)\n",
        "df2 = pd.DataFrame(student_data2)\n",
        "df_exam = pd.DataFrame(exam_data)\n",
        "\n",
        "merged_df = pd.concat([df1, df2])\n",
        "\n",
        "final_result = pd.merge(merged_df, df_exam, on='student_id')\n",
        "\n",
        "print(\"Merged DataFrame:\")\n",
        "print(final_result)\n"
      ],
      "metadata": {
        "id": "LKSwxNz3wyO2",
        "colab": {
          "base_uri": "https://localhost:8080/"
        },
        "outputId": "5a26ed55-a90f-45f4-e3f2-2afb77cdaf2e"
      },
      "execution_count": null,
      "outputs": [
        {
          "output_type": "stream",
          "name": "stdout",
          "text": [
            "Merged DataFrame:\n",
            "  student_id              name  marks  exam_id\n",
            "0         S1  Danniella Fenton    200       23\n",
            "1         S2      Ryder Storey    210       45\n",
            "2         S3      Bryce Jensen    190       12\n",
            "3         S4         Ed Bernal    222       67\n",
            "4         S4  Scarlette Fisher    201       67\n",
            "5         S5       Kwame Morin    199       21\n",
            "6         S5  Carla Williamson    200       21\n",
            "7         S7    Kaiser William    219       55\n",
            "8         S8   Madeeha Preston    201       33\n"
          ]
        }
      ]
    }
  ]
}